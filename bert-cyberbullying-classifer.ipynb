{
 "cells": [
  {
   "cell_type": "code",
   "execution_count": 14,
   "metadata": {},
   "outputs": [
    {
     "name": "stdout",
     "output_type": "stream",
     "text": [
      "Sun Apr  7 10:26:29 2024       \n",
      "+-----------------------------------------------------------------------------+\n",
      "| NVIDIA-SMI 520.61.05    Driver Version: 520.61.05    CUDA Version: 11.8     |\n",
      "|-------------------------------+----------------------+----------------------+\n",
      "| GPU  Name        Persistence-M| Bus-Id        Disp.A | Volatile Uncorr. ECC |\n",
      "| Fan  Temp  Perf  Pwr:Usage/Cap|         Memory-Usage | GPU-Util  Compute M. |\n",
      "|                               |                      |               MIG M. |\n",
      "|===============================+======================+======================|\n",
      "|   0  Tesla T4            On   | 00000000:01:01.0 Off |                    0 |\n",
      "| N/A   26C    P8    14W /  70W |      2MiB / 15360MiB |      0%      Default |\n",
      "|                               |                      |                  N/A |\n",
      "+-------------------------------+----------------------+----------------------+\n",
      "                                                                               \n",
      "+-----------------------------------------------------------------------------+\n",
      "| Processes:                                                                  |\n",
      "|  GPU   GI   CI        PID   Type   Process name                  GPU Memory |\n",
      "|        ID   ID                                                   Usage      |\n",
      "|=============================================================================|\n",
      "|  No running processes found                                                 |\n",
      "+-----------------------------------------------------------------------------+\n"
     ]
    }
   ],
   "source": [
    "!nvidia-smi"
   ]
  },
  {
   "cell_type": "code",
   "execution_count": 15,
   "metadata": {},
   "outputs": [
    {
     "name": "stderr",
     "output_type": "stream",
     "text": [
      "2024-04-07 10:26:31.959448: I tensorflow/stream_executor/cuda/cuda_gpu_executor.cc:975] successful NUMA node read from SysFS had negative value (-1), but there must be at least one NUMA node, so returning NUMA node zero\n",
      "2024-04-07 10:26:32.008331: I tensorflow/stream_executor/cuda/cuda_gpu_executor.cc:975] successful NUMA node read from SysFS had negative value (-1), but there must be at least one NUMA node, so returning NUMA node zero\n",
      "2024-04-07 10:26:32.010568: I tensorflow/stream_executor/cuda/cuda_gpu_executor.cc:975] successful NUMA node read from SysFS had negative value (-1), but there must be at least one NUMA node, so returning NUMA node zero\n"
     ]
    },
    {
     "data": {
      "text/plain": [
       "[PhysicalDevice(name='/physical_device:GPU:0', device_type='GPU')]"
      ]
     },
     "execution_count": 15,
     "metadata": {},
     "output_type": "execute_result"
    }
   ],
   "source": [
    "import tensorflow as tf\n",
    "tf.config.list_physical_devices('GPU')"
   ]
  },
  {
   "cell_type": "code",
   "execution_count": 16,
   "metadata": {},
   "outputs": [],
   "source": [
    "physical_devices = tf.config.list_physical_devices('GPU')\n",
    "try:\n",
    "    tf.config.experimental.set_memory_growth(physical_devices[0], True)\n",
    "except:\n",
    "    pass"
   ]
  },
  {
   "cell_type": "markdown",
   "metadata": {},
   "source": [
    "## Import libraries."
   ]
  },
  {
   "cell_type": "code",
   "execution_count": 17,
   "metadata": {
    "execution": {
     "iopub.execute_input": "2024-03-17T18:36:48.881455Z",
     "iopub.status.busy": "2024-03-17T18:36:48.881128Z",
     "iopub.status.idle": "2024-03-17T18:36:51.856464Z",
     "shell.execute_reply": "2024-03-17T18:36:51.855539Z",
     "shell.execute_reply.started": "2024-03-17T18:36:48.881426Z"
    }
   },
   "outputs": [
    {
     "name": "stderr",
     "output_type": "stream",
     "text": [
      "/usr/local/lib/python3.8/dist-packages/thinc/compat.py:36: UserWarning: 'has_mps' is deprecated, please use 'torch.backends.mps.is_built()'\n",
      "  hasattr(torch, \"has_mps\")\n",
      "/usr/local/lib/python3.8/dist-packages/thinc/compat.py:37: UserWarning: 'has_mps' is deprecated, please use 'torch.backends.mps.is_built()'\n",
      "  and torch.has_mps  # type: ignore[attr-defined]\n",
      "[nltk_data] Downloading package stopwords to /root/nltk_data...\n",
      "[nltk_data]   Package stopwords is already up-to-date!\n",
      "2024-04-07 10:26:39.918930: I tensorflow/core/platform/cpu_feature_guard.cc:193] This TensorFlow binary is optimized with oneAPI Deep Neural Network Library (oneDNN) to use the following CPU instructions in performance-critical operations:  AVX2 FMA\n",
      "To enable them in other operations, rebuild TensorFlow with the appropriate compiler flags.\n",
      "2024-04-07 10:26:39.920036: I tensorflow/stream_executor/cuda/cuda_gpu_executor.cc:975] successful NUMA node read from SysFS had negative value (-1), but there must be at least one NUMA node, so returning NUMA node zero\n",
      "2024-04-07 10:26:39.921553: I tensorflow/stream_executor/cuda/cuda_gpu_executor.cc:975] successful NUMA node read from SysFS had negative value (-1), but there must be at least one NUMA node, so returning NUMA node zero\n",
      "2024-04-07 10:26:39.922759: I tensorflow/stream_executor/cuda/cuda_gpu_executor.cc:975] successful NUMA node read from SysFS had negative value (-1), but there must be at least one NUMA node, so returning NUMA node zero\n",
      "2024-04-07 10:26:39.924310: I tensorflow/stream_executor/cuda/cuda_gpu_executor.cc:975] successful NUMA node read from SysFS had negative value (-1), but there must be at least one NUMA node, so returning NUMA node zero\n",
      "2024-04-07 10:26:39.925587: I tensorflow/stream_executor/cuda/cuda_gpu_executor.cc:975] successful NUMA node read from SysFS had negative value (-1), but there must be at least one NUMA node, so returning NUMA node zero\n",
      "2024-04-07 10:26:39.926775: I tensorflow/stream_executor/cuda/cuda_gpu_executor.cc:975] successful NUMA node read from SysFS had negative value (-1), but there must be at least one NUMA node, so returning NUMA node zero\n",
      "2024-04-07 10:26:39.927897: I tensorflow/core/common_runtime/gpu/gpu_device.cc:1532] Created device /job:localhost/replica:0/task:0/device:GPU:0 with 13805 MB memory:  -> device: 0, name: Tesla T4, pci bus id: 0000:01:01.0, compute capability: 7.5\n",
      "Some weights of the PyTorch model were not used when initializing the TF 2.0 model TFBertModel: ['cls.predictions.transform.LayerNorm.bias', 'cls.predictions.bias', 'cls.seq_relationship.weight', 'cls.predictions.transform.LayerNorm.weight', 'cls.predictions.transform.dense.bias', 'cls.seq_relationship.bias', 'cls.predictions.transform.dense.weight']\n",
      "- This IS expected if you are initializing TFBertModel from a PyTorch model trained on another task or with another architecture (e.g. initializing a TFBertForSequenceClassification model from a BertForPreTraining model).\n",
      "- This IS NOT expected if you are initializing TFBertModel from a PyTorch model that you expect to be exactly identical (e.g. initializing a TFBertForSequenceClassification model from a BertForSequenceClassification model).\n",
      "All the weights of TFBertModel were initialized from the PyTorch model.\n",
      "If your task is similar to the task the model of the checkpoint was trained on, you can already use TFBertModel for predictions without further training.\n"
     ]
    }
   ],
   "source": [
    "import spacy\n",
    "import re\n",
    "import nltk\n",
    "import string\n",
    "import sklearn\n",
    "import neattext as nt\n",
    "import neattext.functions as nfx\n",
    "import pandas as pd \n",
    "import numpy as np\n",
    "import tensorflow as tf\n",
    "import matplotlib.pyplot as plt\n",
    "import seaborn as sns\n",
    "nltk.download('stopwords')\n",
    "from nltk.corpus import stopwords\n",
    "from collections import Counter\n",
    "from tensorflow.keras import layers\n",
    "from tensorflow.keras.layers import Input, Dense\n",
    "from sklearn.model_selection import train_test_split\n",
    "from sklearn.preprocessing import LabelEncoder\n",
    "from tensorflow.keras.preprocessing.text import Tokenizer\n",
    "from tensorflow.keras.optimizers import Adam\n",
    "from sklearn.metrics import classification_report\n",
    "from tensorflow.keras.callbacks import EarlyStopping\n",
    "from tensorflow.keras.initializers import TruncatedNormal\n",
    "from tensorflow.keras.losses import CategoricalCrossentropy\n",
    "from tensorflow.keras.metrics import CategoricalAccuracy\n",
    "from tensorflow.keras.utils import to_categorical\n",
    "from tensorflow.keras.preprocessing.sequence import pad_sequences\n",
    "\n",
    "from transformers import AutoTokenizer, TFBertModel\n",
    "tokenizer = AutoTokenizer.from_pretrained('bert-base-cased')\n",
    "bert = TFBertModel.from_pretrained('bert-base-cased')"
   ]
  },
  {
   "cell_type": "markdown",
   "metadata": {},
   "source": [
    "### Read data with pandas"
   ]
  },
  {
   "cell_type": "code",
   "execution_count": 18,
   "metadata": {
    "execution": {
     "iopub.execute_input": "2024-03-17T18:36:51.857975Z",
     "iopub.status.busy": "2024-03-17T18:36:51.857701Z",
     "iopub.status.idle": "2024-03-17T18:36:52.128687Z",
     "shell.execute_reply": "2024-03-17T18:36:52.127818Z",
     "shell.execute_reply.started": "2024-03-17T18:36:51.857949Z"
    }
   },
   "outputs": [],
   "source": [
    "data = pd.read_csv('augmented_dataset.csv')"
   ]
  },
  {
   "cell_type": "markdown",
   "metadata": {},
   "source": [
    "### Inspecting the data."
   ]
  },
  {
   "cell_type": "code",
   "execution_count": 19,
   "metadata": {
    "execution": {
     "iopub.execute_input": "2024-03-17T18:36:52.131307Z",
     "iopub.status.busy": "2024-03-17T18:36:52.130978Z",
     "iopub.status.idle": "2024-03-17T18:36:52.141549Z",
     "shell.execute_reply": "2024-03-17T18:36:52.140519Z",
     "shell.execute_reply.started": "2024-03-17T18:36:52.131277Z"
    },
    "scrolled": true
   },
   "outputs": [
    {
     "data": {
      "text/html": [
       "<div>\n",
       "<style scoped>\n",
       "    .dataframe tbody tr th:only-of-type {\n",
       "        vertical-align: middle;\n",
       "    }\n",
       "\n",
       "    .dataframe tbody tr th {\n",
       "        vertical-align: top;\n",
       "    }\n",
       "\n",
       "    .dataframe thead th {\n",
       "        text-align: right;\n",
       "    }\n",
       "</style>\n",
       "<table border=\"1\" class=\"dataframe\">\n",
       "  <thead>\n",
       "    <tr style=\"text-align: right;\">\n",
       "      <th></th>\n",
       "      <th>tweet_text</th>\n",
       "      <th>cyberbullying_type</th>\n",
       "    </tr>\n",
       "  </thead>\n",
       "  <tbody>\n",
       "    <tr>\n",
       "      <th>0</th>\n",
       "      <td>In other words #katandandre, your food was cra...</td>\n",
       "      <td>not_cyberbullying</td>\n",
       "    </tr>\n",
       "    <tr>\n",
       "      <th>1</th>\n",
       "      <td>Why is #aussietv so white? #MKR #theblock #ImA...</td>\n",
       "      <td>not_cyberbullying</td>\n",
       "    </tr>\n",
       "    <tr>\n",
       "      <th>2</th>\n",
       "      <td>@XochitlSuckkks a classy whore? Or more red ve...</td>\n",
       "      <td>not_cyberbullying</td>\n",
       "    </tr>\n",
       "    <tr>\n",
       "      <th>3</th>\n",
       "      <td>@Jason_Gio meh. :P  thanks for the heads up, b...</td>\n",
       "      <td>not_cyberbullying</td>\n",
       "    </tr>\n",
       "    <tr>\n",
       "      <th>4</th>\n",
       "      <td>@RudhoeEnglish This is an ISIS account pretend...</td>\n",
       "      <td>not_cyberbullying</td>\n",
       "    </tr>\n",
       "  </tbody>\n",
       "</table>\n",
       "</div>"
      ],
      "text/plain": [
       "                                          tweet_text cyberbullying_type\n",
       "0  In other words #katandandre, your food was cra...  not_cyberbullying\n",
       "1  Why is #aussietv so white? #MKR #theblock #ImA...  not_cyberbullying\n",
       "2  @XochitlSuckkks a classy whore? Or more red ve...  not_cyberbullying\n",
       "3  @Jason_Gio meh. :P  thanks for the heads up, b...  not_cyberbullying\n",
       "4  @RudhoeEnglish This is an ISIS account pretend...  not_cyberbullying"
      ]
     },
     "execution_count": 19,
     "metadata": {},
     "output_type": "execute_result"
    }
   ],
   "source": [
    "data.head()"
   ]
  },
  {
   "cell_type": "code",
   "execution_count": 20,
   "metadata": {
    "execution": {
     "iopub.execute_input": "2024-03-17T18:36:52.143053Z",
     "iopub.status.busy": "2024-03-17T18:36:52.142767Z",
     "iopub.status.idle": "2024-03-17T18:36:52.254216Z",
     "shell.execute_reply": "2024-03-17T18:36:52.253206Z",
     "shell.execute_reply.started": "2024-03-17T18:36:52.143019Z"
    }
   },
   "outputs": [
    {
     "data": {
      "text/html": [
       "<div>\n",
       "<style scoped>\n",
       "    .dataframe tbody tr th:only-of-type {\n",
       "        vertical-align: middle;\n",
       "    }\n",
       "\n",
       "    .dataframe tbody tr th {\n",
       "        vertical-align: top;\n",
       "    }\n",
       "\n",
       "    .dataframe thead tr th {\n",
       "        text-align: left;\n",
       "    }\n",
       "\n",
       "    .dataframe thead tr:last-of-type th {\n",
       "        text-align: right;\n",
       "    }\n",
       "</style>\n",
       "<table border=\"1\" class=\"dataframe\">\n",
       "  <thead>\n",
       "    <tr>\n",
       "      <th></th>\n",
       "      <th colspan=\"4\" halign=\"left\">tweet_text</th>\n",
       "    </tr>\n",
       "    <tr>\n",
       "      <th></th>\n",
       "      <th>count</th>\n",
       "      <th>unique</th>\n",
       "      <th>top</th>\n",
       "      <th>freq</th>\n",
       "    </tr>\n",
       "    <tr>\n",
       "      <th>cyberbullying_type</th>\n",
       "      <th></th>\n",
       "      <th></th>\n",
       "      <th></th>\n",
       "      <th></th>\n",
       "    </tr>\n",
       "  </thead>\n",
       "  <tbody>\n",
       "    <tr>\n",
       "      <th>age</th>\n",
       "      <td>15984</td>\n",
       "      <td>15975</td>\n",
       "      <td>high school fuck bully</td>\n",
       "      <td>4</td>\n",
       "    </tr>\n",
       "    <tr>\n",
       "      <th>ethnicity</th>\n",
       "      <td>15922</td>\n",
       "      <td>15907</td>\n",
       "      <td>#ERROR!</td>\n",
       "      <td>6</td>\n",
       "    </tr>\n",
       "    <tr>\n",
       "      <th>gender</th>\n",
       "      <td>15946</td>\n",
       "      <td>15880</td>\n",
       "      <td>after reading all the rape and homosexual joke...</td>\n",
       "      <td>3</td>\n",
       "    </tr>\n",
       "    <tr>\n",
       "      <th>not_cyberbullying</th>\n",
       "      <td>15890</td>\n",
       "      <td>15846</td>\n",
       "      <td>ROFL</td>\n",
       "      <td>2</td>\n",
       "    </tr>\n",
       "    <tr>\n",
       "      <th>other_cyberbullying</th>\n",
       "      <td>15646</td>\n",
       "      <td>15613</td>\n",
       "      <td>5/14/15</td>\n",
       "      <td>2</td>\n",
       "    </tr>\n",
       "    <tr>\n",
       "      <th>religion</th>\n",
       "      <td>15996</td>\n",
       "      <td>15989</td>\n",
       "      <td>not all Muslim are from Islam you idiot</td>\n",
       "      <td>4</td>\n",
       "    </tr>\n",
       "  </tbody>\n",
       "</table>\n",
       "</div>"
      ],
      "text/plain": [
       "                    tweet_text         \\\n",
       "                         count unique   \n",
       "cyberbullying_type                      \n",
       "age                      15984  15975   \n",
       "ethnicity                15922  15907   \n",
       "gender                   15946  15880   \n",
       "not_cyberbullying        15890  15846   \n",
       "other_cyberbullying      15646  15613   \n",
       "religion                 15996  15989   \n",
       "\n",
       "                                                                             \n",
       "                                                                   top freq  \n",
       "cyberbullying_type                                                           \n",
       "age                                             high school fuck bully    4  \n",
       "ethnicity                                                      #ERROR!    6  \n",
       "gender               after reading all the rape and homosexual joke...    3  \n",
       "not_cyberbullying                                                 ROFL    2  \n",
       "other_cyberbullying                                            5/14/15    2  \n",
       "religion                       not all Muslim are from Islam you idiot    4  "
      ]
     },
     "execution_count": 20,
     "metadata": {},
     "output_type": "execute_result"
    }
   ],
   "source": [
    "data.groupby('cyberbullying_type').describe()"
   ]
  },
  {
   "cell_type": "code",
   "execution_count": 21,
   "metadata": {
    "execution": {
     "iopub.execute_input": "2024-03-17T18:36:52.255659Z",
     "iopub.status.busy": "2024-03-17T18:36:52.255364Z",
     "iopub.status.idle": "2024-03-17T18:36:52.273506Z",
     "shell.execute_reply": "2024-03-17T18:36:52.272601Z",
     "shell.execute_reply.started": "2024-03-17T18:36:52.255632Z"
    }
   },
   "outputs": [
    {
     "data": {
      "text/plain": [
       "cyberbullying_type\n",
       "religion               15996\n",
       "age                    15984\n",
       "gender                 15946\n",
       "ethnicity              15922\n",
       "not_cyberbullying      15890\n",
       "other_cyberbullying    15646\n",
       "Name: count, dtype: int64"
      ]
     },
     "execution_count": 21,
     "metadata": {},
     "output_type": "execute_result"
    }
   ],
   "source": [
    "data['cyberbullying_type'].value_counts()"
   ]
  },
  {
   "cell_type": "code",
   "execution_count": 22,
   "metadata": {
    "execution": {
     "iopub.execute_input": "2024-03-17T18:36:52.274861Z",
     "iopub.status.busy": "2024-03-17T18:36:52.274594Z",
     "iopub.status.idle": "2024-03-17T18:36:52.290491Z",
     "shell.execute_reply": "2024-03-17T18:36:52.289557Z",
     "shell.execute_reply.started": "2024-03-17T18:36:52.274835Z"
    }
   },
   "outputs": [
    {
     "data": {
      "text/plain": [
       "6"
      ]
     },
     "execution_count": 22,
     "metadata": {},
     "output_type": "execute_result"
    }
   ],
   "source": [
    "data['cyberbullying_type'].nunique()"
   ]
  },
  {
   "cell_type": "code",
   "execution_count": 23,
   "metadata": {
    "execution": {
     "iopub.execute_input": "2024-03-17T18:36:52.291769Z",
     "iopub.status.busy": "2024-03-17T18:36:52.291495Z",
     "iopub.status.idle": "2024-03-17T18:36:52.307337Z",
     "shell.execute_reply": "2024-03-17T18:36:52.306407Z",
     "shell.execute_reply.started": "2024-03-17T18:36:52.291741Z"
    }
   },
   "outputs": [
    {
     "data": {
      "text/plain": [
       "95384"
      ]
     },
     "execution_count": 23,
     "metadata": {},
     "output_type": "execute_result"
    }
   ],
   "source": [
    "data['cyberbullying_type'].count()"
   ]
  },
  {
   "cell_type": "code",
   "execution_count": 24,
   "metadata": {
    "execution": {
     "iopub.execute_input": "2024-03-17T18:36:52.308733Z",
     "iopub.status.busy": "2024-03-17T18:36:52.308454Z",
     "iopub.status.idle": "2024-03-17T18:36:52.339187Z",
     "shell.execute_reply": "2024-03-17T18:36:52.338122Z",
     "shell.execute_reply.started": "2024-03-17T18:36:52.308708Z"
    }
   },
   "outputs": [
    {
     "name": "stdout",
     "output_type": "stream",
     "text": [
      "<class 'pandas.core.frame.DataFrame'>\n",
      "RangeIndex: 95384 entries, 0 to 95383\n",
      "Data columns (total 2 columns):\n",
      " #   Column              Non-Null Count  Dtype \n",
      "---  ------              --------------  ----- \n",
      " 0   tweet_text          95384 non-null  object\n",
      " 1   cyberbullying_type  95384 non-null  object\n",
      "dtypes: object(2)\n",
      "memory usage: 1.5+ MB\n"
     ]
    }
   ],
   "source": [
    "data.info()"
   ]
  },
  {
   "cell_type": "code",
   "execution_count": 25,
   "metadata": {
    "execution": {
     "iopub.execute_input": "2024-03-17T18:36:52.343108Z",
     "iopub.status.busy": "2024-03-17T18:36:52.342814Z",
     "iopub.status.idle": "2024-03-17T18:36:52.349083Z",
     "shell.execute_reply": "2024-03-17T18:36:52.348104Z",
     "shell.execute_reply.started": "2024-03-17T18:36:52.343081Z"
    }
   },
   "outputs": [
    {
     "data": {
      "text/plain": [
       "(95384, 2)"
      ]
     },
     "execution_count": 25,
     "metadata": {},
     "output_type": "execute_result"
    }
   ],
   "source": [
    "data.shape"
   ]
  },
  {
   "cell_type": "code",
   "execution_count": 26,
   "metadata": {
    "execution": {
     "iopub.execute_input": "2024-03-17T18:36:52.351037Z",
     "iopub.status.busy": "2024-03-17T18:36:52.350495Z",
     "iopub.status.idle": "2024-03-17T18:36:52.361636Z",
     "shell.execute_reply": "2024-03-17T18:36:52.360679Z",
     "shell.execute_reply.started": "2024-03-17T18:36:52.351008Z"
    },
    "scrolled": true
   },
   "outputs": [
    {
     "data": {
      "text/html": [
       "<div>\n",
       "<style scoped>\n",
       "    .dataframe tbody tr th:only-of-type {\n",
       "        vertical-align: middle;\n",
       "    }\n",
       "\n",
       "    .dataframe tbody tr th {\n",
       "        vertical-align: top;\n",
       "    }\n",
       "\n",
       "    .dataframe thead th {\n",
       "        text-align: right;\n",
       "    }\n",
       "</style>\n",
       "<table border=\"1\" class=\"dataframe\">\n",
       "  <thead>\n",
       "    <tr style=\"text-align: right;\">\n",
       "      <th></th>\n",
       "      <th>tweet_text</th>\n",
       "      <th>cyberbullying_type</th>\n",
       "    </tr>\n",
       "  </thead>\n",
       "  <tbody>\n",
       "    <tr>\n",
       "      <th>0</th>\n",
       "      <td>In other words #katandandre, your food was cra...</td>\n",
       "      <td>not_cyberbullying</td>\n",
       "    </tr>\n",
       "    <tr>\n",
       "      <th>1</th>\n",
       "      <td>Why is #aussietv so white? #MKR #theblock #ImA...</td>\n",
       "      <td>not_cyberbullying</td>\n",
       "    </tr>\n",
       "    <tr>\n",
       "      <th>2</th>\n",
       "      <td>@XochitlSuckkks a classy whore? Or more red ve...</td>\n",
       "      <td>not_cyberbullying</td>\n",
       "    </tr>\n",
       "    <tr>\n",
       "      <th>3</th>\n",
       "      <td>@Jason_Gio meh. :P  thanks for the heads up, b...</td>\n",
       "      <td>not_cyberbullying</td>\n",
       "    </tr>\n",
       "    <tr>\n",
       "      <th>4</th>\n",
       "      <td>@RudhoeEnglish This is an ISIS account pretend...</td>\n",
       "      <td>not_cyberbullying</td>\n",
       "    </tr>\n",
       "  </tbody>\n",
       "</table>\n",
       "</div>"
      ],
      "text/plain": [
       "                                          tweet_text cyberbullying_type\n",
       "0  In other words #katandandre, your food was cra...  not_cyberbullying\n",
       "1  Why is #aussietv so white? #MKR #theblock #ImA...  not_cyberbullying\n",
       "2  @XochitlSuckkks a classy whore? Or more red ve...  not_cyberbullying\n",
       "3  @Jason_Gio meh. :P  thanks for the heads up, b...  not_cyberbullying\n",
       "4  @RudhoeEnglish This is an ISIS account pretend...  not_cyberbullying"
      ]
     },
     "execution_count": 26,
     "metadata": {},
     "output_type": "execute_result"
    }
   ],
   "source": [
    "data.head()"
   ]
  },
  {
   "cell_type": "code",
   "execution_count": 27,
   "metadata": {
    "execution": {
     "iopub.execute_input": "2024-03-17T18:36:52.362954Z",
     "iopub.status.busy": "2024-03-17T18:36:52.362671Z",
     "iopub.status.idle": "2024-03-17T18:36:52.373686Z",
     "shell.execute_reply": "2024-03-17T18:36:52.372737Z",
     "shell.execute_reply.started": "2024-03-17T18:36:52.362920Z"
    }
   },
   "outputs": [
    {
     "data": {
      "text/html": [
       "<div>\n",
       "<style scoped>\n",
       "    .dataframe tbody tr th:only-of-type {\n",
       "        vertical-align: middle;\n",
       "    }\n",
       "\n",
       "    .dataframe tbody tr th {\n",
       "        vertical-align: top;\n",
       "    }\n",
       "\n",
       "    .dataframe thead th {\n",
       "        text-align: right;\n",
       "    }\n",
       "</style>\n",
       "<table border=\"1\" class=\"dataframe\">\n",
       "  <thead>\n",
       "    <tr style=\"text-align: right;\">\n",
       "      <th></th>\n",
       "      <th>tweet_text</th>\n",
       "      <th>cyberbullying_type</th>\n",
       "    </tr>\n",
       "  </thead>\n",
       "  <tbody>\n",
       "    <tr>\n",
       "      <th>95379</th>\n",
       "      <td>black ppl are n't expect to bash anything , de...</td>\n",
       "      <td>ethnicity</td>\n",
       "    </tr>\n",
       "    <tr>\n",
       "      <th>95380</th>\n",
       "      <td>Turner make not withhold his disappointment . ...</td>\n",
       "      <td>ethnicity</td>\n",
       "    </tr>\n",
       "    <tr>\n",
       "      <th>95381</th>\n",
       "      <td>iodine curse to God . This dense nigger bitch ...</td>\n",
       "      <td>ethnicity</td>\n",
       "    </tr>\n",
       "    <tr>\n",
       "      <th>95382</th>\n",
       "      <td>yea fuck you RT @ therealexel : IF YOURE angst...</td>\n",
       "      <td>ethnicity</td>\n",
       "    </tr>\n",
       "    <tr>\n",
       "      <th>95383</th>\n",
       "      <td>Bro . uracil get tantalum chill RT @ CHILLShra...</td>\n",
       "      <td>ethnicity</td>\n",
       "    </tr>\n",
       "  </tbody>\n",
       "</table>\n",
       "</div>"
      ],
      "text/plain": [
       "                                              tweet_text cyberbullying_type\n",
       "95379  black ppl are n't expect to bash anything , de...          ethnicity\n",
       "95380  Turner make not withhold his disappointment . ...          ethnicity\n",
       "95381  iodine curse to God . This dense nigger bitch ...          ethnicity\n",
       "95382  yea fuck you RT @ therealexel : IF YOURE angst...          ethnicity\n",
       "95383  Bro . uracil get tantalum chill RT @ CHILLShra...          ethnicity"
      ]
     },
     "execution_count": 27,
     "metadata": {},
     "output_type": "execute_result"
    }
   ],
   "source": [
    "data.tail()"
   ]
  },
  {
   "cell_type": "code",
   "execution_count": 28,
   "metadata": {
    "execution": {
     "iopub.execute_input": "2024-03-17T18:36:52.375091Z",
     "iopub.status.busy": "2024-03-17T18:36:52.374809Z",
     "iopub.status.idle": "2024-03-17T18:36:52.403052Z",
     "shell.execute_reply": "2024-03-17T18:36:52.402228Z",
     "shell.execute_reply.started": "2024-03-17T18:36:52.375057Z"
    }
   },
   "outputs": [
    {
     "data": {
      "text/plain": [
       "tweet_text            0\n",
       "cyberbullying_type    0\n",
       "dtype: int64"
      ]
     },
     "execution_count": 28,
     "metadata": {},
     "output_type": "execute_result"
    }
   ],
   "source": [
    "data.isnull().sum()"
   ]
  },
  {
   "cell_type": "code",
   "execution_count": 29,
   "metadata": {
    "execution": {
     "iopub.execute_input": "2024-03-17T18:36:52.404544Z",
     "iopub.status.busy": "2024-03-17T18:36:52.404243Z",
     "iopub.status.idle": "2024-03-17T18:36:52.482802Z",
     "shell.execute_reply": "2024-03-17T18:36:52.482007Z",
     "shell.execute_reply.started": "2024-03-17T18:36:52.404518Z"
    }
   },
   "outputs": [],
   "source": [
    "data.drop_duplicates(inplace=True)"
   ]
  },
  {
   "cell_type": "code",
   "execution_count": 30,
   "metadata": {
    "execution": {
     "iopub.execute_input": "2024-03-17T18:36:52.484465Z",
     "iopub.status.busy": "2024-03-17T18:36:52.484066Z",
     "iopub.status.idle": "2024-03-17T18:36:52.491304Z",
     "shell.execute_reply": "2024-03-17T18:36:52.490222Z",
     "shell.execute_reply.started": "2024-03-17T18:36:52.484427Z"
    },
    "scrolled": true
   },
   "outputs": [
    {
     "data": {
      "text/plain": [
       "(95210, 2)"
      ]
     },
     "execution_count": 30,
     "metadata": {},
     "output_type": "execute_result"
    }
   ],
   "source": [
    "data.shape"
   ]
  },
  {
   "cell_type": "markdown",
   "metadata": {},
   "source": [
    "### Shuffle data and split it into training and test sets."
   ]
  },
  {
   "cell_type": "code",
   "execution_count": 31,
   "metadata": {
    "execution": {
     "iopub.execute_input": "2024-03-17T18:36:52.492888Z",
     "iopub.status.busy": "2024-03-17T18:36:52.492567Z",
     "iopub.status.idle": "2024-03-17T18:36:52.625433Z",
     "shell.execute_reply": "2024-03-17T18:36:52.624699Z",
     "shell.execute_reply.started": "2024-03-17T18:36:52.492837Z"
    }
   },
   "outputs": [],
   "source": [
    "data_train, data_test = train_test_split(data, test_size = 0.3, random_state = 42, shuffle = True, stratify = data.cyberbullying_type)"
   ]
  },
  {
   "cell_type": "markdown",
   "metadata": {},
   "source": [
    "### Remove hashtags, multiple spaces and user-handles."
   ]
  },
  {
   "cell_type": "code",
   "execution_count": 32,
   "metadata": {
    "execution": {
     "iopub.execute_input": "2024-03-17T18:36:52.626671Z",
     "iopub.status.busy": "2024-03-17T18:36:52.626417Z",
     "iopub.status.idle": "2024-03-17T18:36:52.803557Z",
     "shell.execute_reply": "2024-03-17T18:36:52.802631Z",
     "shell.execute_reply.started": "2024-03-17T18:36:52.626647Z"
    },
    "scrolled": true
   },
   "outputs": [
    {
     "data": {
      "text/html": [
       "<div>\n",
       "<style scoped>\n",
       "    .dataframe tbody tr th:only-of-type {\n",
       "        vertical-align: middle;\n",
       "    }\n",
       "\n",
       "    .dataframe tbody tr th {\n",
       "        vertical-align: top;\n",
       "    }\n",
       "\n",
       "    .dataframe thead th {\n",
       "        text-align: right;\n",
       "    }\n",
       "</style>\n",
       "<table border=\"1\" class=\"dataframe\">\n",
       "  <thead>\n",
       "    <tr style=\"text-align: right;\">\n",
       "      <th></th>\n",
       "      <th>tweet_text</th>\n",
       "      <th>cyberbullying_type</th>\n",
       "    </tr>\n",
       "  </thead>\n",
       "  <tbody>\n",
       "    <tr>\n",
       "      <th>85583</th>\n",
       "      <td>These celebrity are like those bully inch scho...</td>\n",
       "      <td>age</td>\n",
       "    </tr>\n",
       "    <tr>\n",
       "      <th>82050</th>\n",
       "      <td>My ma would get vaulting_horse astatine the id...</td>\n",
       "      <td>age</td>\n",
       "    </tr>\n",
       "    <tr>\n",
       "      <th>64289</th>\n",
       "      <td>anyhow you agree that information_technology W...</td>\n",
       "      <td>religion</td>\n",
       "    </tr>\n",
       "    <tr>\n",
       "      <th>11799</th>\n",
       "      <td>RT @damong__ I'm not sexist. But fuck marvel f...</td>\n",
       "      <td>gender</td>\n",
       "    </tr>\n",
       "    <tr>\n",
       "      <th>28029</th>\n",
       "      <td>RT @lexi4prez: this is why Pepsi is TRASH. how...</td>\n",
       "      <td>other_cyberbullying</td>\n",
       "    </tr>\n",
       "  </tbody>\n",
       "</table>\n",
       "</div>"
      ],
      "text/plain": [
       "                                              tweet_text   cyberbullying_type\n",
       "85583  These celebrity are like those bully inch scho...                  age\n",
       "82050  My ma would get vaulting_horse astatine the id...                  age\n",
       "64289  anyhow you agree that information_technology W...             religion\n",
       "11799  RT @damong__ I'm not sexist. But fuck marvel f...               gender\n",
       "28029  RT @lexi4prez: this is why Pepsi is TRASH. how...  other_cyberbullying"
      ]
     },
     "execution_count": 32,
     "metadata": {},
     "output_type": "execute_result"
    }
   ],
   "source": [
    "data_train['tweet_text'] = data_train['tweet_text'].apply(nfx.remove_hashtags)\n",
    "data_train.head()"
   ]
  },
  {
   "cell_type": "code",
   "execution_count": 33,
   "metadata": {
    "execution": {
     "iopub.execute_input": "2024-03-17T18:36:52.804867Z",
     "iopub.status.busy": "2024-03-17T18:36:52.804599Z",
     "iopub.status.idle": "2024-03-17T18:36:52.985922Z",
     "shell.execute_reply": "2024-03-17T18:36:52.985170Z",
     "shell.execute_reply.started": "2024-03-17T18:36:52.804843Z"
    }
   },
   "outputs": [],
   "source": [
    "# data_train['tweet_text'] = data_train['tweet_text'].apply(lambda x: nfx.remove_custom_pattern(x, term_pattern=r'&#\\$ '))\n",
    "\n",
    "data_train['tweet_text'] = data_train['tweet_text'].apply(nfx.remove_userhandles)"
   ]
  },
  {
   "cell_type": "code",
   "execution_count": 34,
   "metadata": {
    "execution": {
     "iopub.execute_input": "2024-03-17T18:36:52.987145Z",
     "iopub.status.busy": "2024-03-17T18:36:52.986885Z",
     "iopub.status.idle": "2024-03-17T18:36:52.996571Z",
     "shell.execute_reply": "2024-03-17T18:36:52.995606Z",
     "shell.execute_reply.started": "2024-03-17T18:36:52.987121Z"
    },
    "scrolled": true
   },
   "outputs": [
    {
     "data": {
      "text/html": [
       "<div>\n",
       "<style scoped>\n",
       "    .dataframe tbody tr th:only-of-type {\n",
       "        vertical-align: middle;\n",
       "    }\n",
       "\n",
       "    .dataframe tbody tr th {\n",
       "        vertical-align: top;\n",
       "    }\n",
       "\n",
       "    .dataframe thead th {\n",
       "        text-align: right;\n",
       "    }\n",
       "</style>\n",
       "<table border=\"1\" class=\"dataframe\">\n",
       "  <thead>\n",
       "    <tr style=\"text-align: right;\">\n",
       "      <th></th>\n",
       "      <th>tweet_text</th>\n",
       "      <th>cyberbullying_type</th>\n",
       "    </tr>\n",
       "  </thead>\n",
       "  <tbody>\n",
       "    <tr>\n",
       "      <th>72826</th>\n",
       "      <td>@ FrankAlvarez see this thread . : phosphorus ...</td>\n",
       "      <td>other_cyberbullying</td>\n",
       "    </tr>\n",
       "    <tr>\n",
       "      <th>65571</th>\n",
       "      <td>Hahaha rich_person you get involve inch some t...</td>\n",
       "      <td>religion</td>\n",
       "    </tr>\n",
       "    <tr>\n",
       "      <th>1858</th>\n",
       "      <td>Fuck you if you hit nerds :/   bully Beatdown</td>\n",
       "      <td>not_cyberbullying</td>\n",
       "    </tr>\n",
       "    <tr>\n",
       "      <th>93959</th>\n",
       "      <td>get on her angstrom * * -- -- &gt; RT “ @ tayyoun...</td>\n",
       "      <td>ethnicity</td>\n",
       "    </tr>\n",
       "    <tr>\n",
       "      <th>62505</th>\n",
       "      <td>make @ jansportnyc just brand angstrom “ homos...</td>\n",
       "      <td>gender</td>\n",
       "    </tr>\n",
       "  </tbody>\n",
       "</table>\n",
       "</div>"
      ],
      "text/plain": [
       "                                              tweet_text   cyberbullying_type\n",
       "72826  @ FrankAlvarez see this thread . : phosphorus ...  other_cyberbullying\n",
       "65571  Hahaha rich_person you get involve inch some t...             religion\n",
       "1858       Fuck you if you hit nerds :/   bully Beatdown    not_cyberbullying\n",
       "93959  get on her angstrom * * -- -- > RT “ @ tayyoun...            ethnicity\n",
       "62505  make @ jansportnyc just brand angstrom “ homos...               gender"
      ]
     },
     "execution_count": 34,
     "metadata": {},
     "output_type": "execute_result"
    }
   ],
   "source": [
    "data_train.tail()"
   ]
  },
  {
   "cell_type": "code",
   "execution_count": 35,
   "metadata": {
    "execution": {
     "iopub.execute_input": "2024-03-17T18:36:52.998122Z",
     "iopub.status.busy": "2024-03-17T18:36:52.997843Z",
     "iopub.status.idle": "2024-03-17T18:36:53.487584Z",
     "shell.execute_reply": "2024-03-17T18:36:53.486620Z",
     "shell.execute_reply.started": "2024-03-17T18:36:52.998096Z"
    }
   },
   "outputs": [
    {
     "data": {
      "text/html": [
       "<div>\n",
       "<style scoped>\n",
       "    .dataframe tbody tr th:only-of-type {\n",
       "        vertical-align: middle;\n",
       "    }\n",
       "\n",
       "    .dataframe tbody tr th {\n",
       "        vertical-align: top;\n",
       "    }\n",
       "\n",
       "    .dataframe thead th {\n",
       "        text-align: right;\n",
       "    }\n",
       "</style>\n",
       "<table border=\"1\" class=\"dataframe\">\n",
       "  <thead>\n",
       "    <tr style=\"text-align: right;\">\n",
       "      <th></th>\n",
       "      <th>tweet_text</th>\n",
       "      <th>cyberbullying_type</th>\n",
       "    </tr>\n",
       "  </thead>\n",
       "  <tbody>\n",
       "    <tr>\n",
       "      <th>85583</th>\n",
       "      <td>These celebrity are like those bully inch scho...</td>\n",
       "      <td>age</td>\n",
       "    </tr>\n",
       "    <tr>\n",
       "      <th>82050</th>\n",
       "      <td>My ma would get vaulting_horse astatine the id...</td>\n",
       "      <td>age</td>\n",
       "    </tr>\n",
       "    <tr>\n",
       "      <th>64289</th>\n",
       "      <td>anyhow you agree that information_technology W...</td>\n",
       "      <td>religion</td>\n",
       "    </tr>\n",
       "    <tr>\n",
       "      <th>11799</th>\n",
       "      <td>RT I'm not sexist. But fuck marvel for disresp...</td>\n",
       "      <td>gender</td>\n",
       "    </tr>\n",
       "    <tr>\n",
       "      <th>28029</th>\n",
       "      <td>RT this is why Pepsi is TRASH. how are you gon...</td>\n",
       "      <td>other_cyberbullying</td>\n",
       "    </tr>\n",
       "  </tbody>\n",
       "</table>\n",
       "</div>"
      ],
      "text/plain": [
       "                                              tweet_text   cyberbullying_type\n",
       "85583  These celebrity are like those bully inch scho...                  age\n",
       "82050  My ma would get vaulting_horse astatine the id...                  age\n",
       "64289  anyhow you agree that information_technology W...             religion\n",
       "11799  RT I'm not sexist. But fuck marvel for disresp...               gender\n",
       "28029  RT this is why Pepsi is TRASH. how are you gon...  other_cyberbullying"
      ]
     },
     "execution_count": 35,
     "metadata": {},
     "output_type": "execute_result"
    }
   ],
   "source": [
    "data_train['tweet_text'] = data_train['tweet_text'].apply(nfx.remove_multiple_spaces)\n",
    "data_train.head()"
   ]
  },
  {
   "cell_type": "code",
   "execution_count": 36,
   "metadata": {
    "execution": {
     "iopub.execute_input": "2024-03-17T18:36:53.488903Z",
     "iopub.status.busy": "2024-03-17T18:36:53.488618Z",
     "iopub.status.idle": "2024-03-17T18:36:53.498100Z",
     "shell.execute_reply": "2024-03-17T18:36:53.497197Z",
     "shell.execute_reply.started": "2024-03-17T18:36:53.488878Z"
    }
   },
   "outputs": [
    {
     "data": {
      "text/html": [
       "<div>\n",
       "<style scoped>\n",
       "    .dataframe tbody tr th:only-of-type {\n",
       "        vertical-align: middle;\n",
       "    }\n",
       "\n",
       "    .dataframe tbody tr th {\n",
       "        vertical-align: top;\n",
       "    }\n",
       "\n",
       "    .dataframe thead th {\n",
       "        text-align: right;\n",
       "    }\n",
       "</style>\n",
       "<table border=\"1\" class=\"dataframe\">\n",
       "  <thead>\n",
       "    <tr style=\"text-align: right;\">\n",
       "      <th></th>\n",
       "      <th>tweet_text</th>\n",
       "      <th>cyberbullying_type</th>\n",
       "    </tr>\n",
       "  </thead>\n",
       "  <tbody>\n",
       "    <tr>\n",
       "      <th>72826</th>\n",
       "      <td>@ FrankAlvarez see this thread . : phosphorus ...</td>\n",
       "      <td>other_cyberbullying</td>\n",
       "    </tr>\n",
       "    <tr>\n",
       "      <th>65571</th>\n",
       "      <td>Hahaha rich_person you get involve inch some t...</td>\n",
       "      <td>religion</td>\n",
       "    </tr>\n",
       "    <tr>\n",
       "      <th>1858</th>\n",
       "      <td>Fuck you if you hit nerds :/ bully Beatdown</td>\n",
       "      <td>not_cyberbullying</td>\n",
       "    </tr>\n",
       "    <tr>\n",
       "      <th>93959</th>\n",
       "      <td>get on her angstrom * * -- -- &gt; RT “ @ tayyoun...</td>\n",
       "      <td>ethnicity</td>\n",
       "    </tr>\n",
       "    <tr>\n",
       "      <th>62505</th>\n",
       "      <td>make @ jansportnyc just brand angstrom “ homos...</td>\n",
       "      <td>gender</td>\n",
       "    </tr>\n",
       "  </tbody>\n",
       "</table>\n",
       "</div>"
      ],
      "text/plain": [
       "                                              tweet_text   cyberbullying_type\n",
       "72826  @ FrankAlvarez see this thread . : phosphorus ...  other_cyberbullying\n",
       "65571  Hahaha rich_person you get involve inch some t...             religion\n",
       "1858         Fuck you if you hit nerds :/ bully Beatdown    not_cyberbullying\n",
       "93959  get on her angstrom * * -- -- > RT “ @ tayyoun...            ethnicity\n",
       "62505  make @ jansportnyc just brand angstrom “ homos...               gender"
      ]
     },
     "execution_count": 36,
     "metadata": {},
     "output_type": "execute_result"
    }
   ],
   "source": [
    "data_train.tail()"
   ]
  },
  {
   "cell_type": "code",
   "execution_count": 37,
   "metadata": {
    "execution": {
     "iopub.execute_input": "2024-03-17T18:36:53.499670Z",
     "iopub.status.busy": "2024-03-17T18:36:53.499373Z",
     "iopub.status.idle": "2024-03-17T18:36:54.066086Z",
     "shell.execute_reply": "2024-03-17T18:36:54.065178Z",
     "shell.execute_reply.started": "2024-03-17T18:36:53.499643Z"
    }
   },
   "outputs": [
    {
     "data": {
      "text/html": [
       "<div>\n",
       "<style scoped>\n",
       "    .dataframe tbody tr th:only-of-type {\n",
       "        vertical-align: middle;\n",
       "    }\n",
       "\n",
       "    .dataframe tbody tr th {\n",
       "        vertical-align: top;\n",
       "    }\n",
       "\n",
       "    .dataframe thead th {\n",
       "        text-align: right;\n",
       "    }\n",
       "</style>\n",
       "<table border=\"1\" class=\"dataframe\">\n",
       "  <thead>\n",
       "    <tr style=\"text-align: right;\">\n",
       "      <th></th>\n",
       "      <th>tweet_text</th>\n",
       "      <th>cyberbullying_type</th>\n",
       "    </tr>\n",
       "  </thead>\n",
       "  <tbody>\n",
       "    <tr>\n",
       "      <th>85583</th>\n",
       "      <td>celebrity like bully inch school twit child ba...</td>\n",
       "      <td>age</td>\n",
       "    </tr>\n",
       "    <tr>\n",
       "      <th>82050</th>\n",
       "      <td>vaulting_horse astatine idea child Washington ...</td>\n",
       "      <td>age</td>\n",
       "    </tr>\n",
       "    <tr>\n",
       "      <th>64289</th>\n",
       "      <td>agree information_technology Washington angstr...</td>\n",
       "      <td>religion</td>\n",
       "    </tr>\n",
       "    <tr>\n",
       "      <th>11799</th>\n",
       "      <td>RT I'm sexist. fuck marvel disrespecting Thor ...</td>\n",
       "      <td>gender</td>\n",
       "    </tr>\n",
       "    <tr>\n",
       "      <th>28029</th>\n",
       "      <td>RT Pepsi TRASH. gonna nasty product shitty ads...</td>\n",
       "      <td>other_cyberbullying</td>\n",
       "    </tr>\n",
       "  </tbody>\n",
       "</table>\n",
       "</div>"
      ],
      "text/plain": [
       "                                              tweet_text   cyberbullying_type\n",
       "85583  celebrity like bully inch school twit child ba...                  age\n",
       "82050  vaulting_horse astatine idea child Washington ...                  age\n",
       "64289  agree information_technology Washington angstr...             religion\n",
       "11799  RT I'm sexist. fuck marvel disrespecting Thor ...               gender\n",
       "28029  RT Pepsi TRASH. gonna nasty product shitty ads...  other_cyberbullying"
      ]
     },
     "execution_count": 37,
     "metadata": {},
     "output_type": "execute_result"
    }
   ],
   "source": [
    "data_train['tweet_text'] = data_train['tweet_text'].apply(nfx.remove_stopwords)\n",
    "data_train.head()"
   ]
  },
  {
   "cell_type": "code",
   "execution_count": 38,
   "metadata": {
    "execution": {
     "iopub.execute_input": "2024-03-17T18:36:54.067409Z",
     "iopub.status.busy": "2024-03-17T18:36:54.067112Z",
     "iopub.status.idle": "2024-03-17T18:36:55.485197Z",
     "shell.execute_reply": "2024-03-17T18:36:55.484213Z",
     "shell.execute_reply.started": "2024-03-17T18:36:54.067382Z"
    }
   },
   "outputs": [
    {
     "data": {
      "text/html": [
       "<div>\n",
       "<style scoped>\n",
       "    .dataframe tbody tr th:only-of-type {\n",
       "        vertical-align: middle;\n",
       "    }\n",
       "\n",
       "    .dataframe tbody tr th {\n",
       "        vertical-align: top;\n",
       "    }\n",
       "\n",
       "    .dataframe thead th {\n",
       "        text-align: right;\n",
       "    }\n",
       "</style>\n",
       "<table border=\"1\" class=\"dataframe\">\n",
       "  <thead>\n",
       "    <tr style=\"text-align: right;\">\n",
       "      <th></th>\n",
       "      <th>tweet_text</th>\n",
       "      <th>cyberbullying_type</th>\n",
       "    </tr>\n",
       "  </thead>\n",
       "  <tbody>\n",
       "    <tr>\n",
       "      <th>85583</th>\n",
       "      <td>celebrity like bully inch school twit child ba...</td>\n",
       "      <td>age</td>\n",
       "    </tr>\n",
       "    <tr>\n",
       "      <th>82050</th>\n",
       "      <td>vaulting_horse astatine idea child Washington ...</td>\n",
       "      <td>age</td>\n",
       "    </tr>\n",
       "    <tr>\n",
       "      <th>64289</th>\n",
       "      <td>agree information_technology Washington angstr...</td>\n",
       "      <td>religion</td>\n",
       "    </tr>\n",
       "    <tr>\n",
       "      <th>11799</th>\n",
       "      <td>RT I'm sexist. fuck marvel disrespecting Thor ...</td>\n",
       "      <td>gender</td>\n",
       "    </tr>\n",
       "    <tr>\n",
       "      <th>28029</th>\n",
       "      <td>RT Pepsi TRASH. gonna nasty product shitty ads</td>\n",
       "      <td>other_cyberbullying</td>\n",
       "    </tr>\n",
       "  </tbody>\n",
       "</table>\n",
       "</div>"
      ],
      "text/plain": [
       "                                              tweet_text   cyberbullying_type\n",
       "85583  celebrity like bully inch school twit child ba...                  age\n",
       "82050  vaulting_horse astatine idea child Washington ...                  age\n",
       "64289  agree information_technology Washington angstr...             religion\n",
       "11799  RT I'm sexist. fuck marvel disrespecting Thor ...               gender\n",
       "28029    RT Pepsi TRASH. gonna nasty product shitty ads   other_cyberbullying"
      ]
     },
     "execution_count": 38,
     "metadata": {},
     "output_type": "execute_result"
    }
   ],
   "source": [
    "data_train['tweet_text'] = data_train['tweet_text'].apply(nfx.remove_urls)\n",
    "data_train.head()"
   ]
  },
  {
   "cell_type": "code",
   "execution_count": 39,
   "metadata": {
    "execution": {
     "iopub.execute_input": "2024-03-17T18:36:55.487142Z",
     "iopub.status.busy": "2024-03-17T18:36:55.486665Z",
     "iopub.status.idle": "2024-03-17T18:36:55.500100Z",
     "shell.execute_reply": "2024-03-17T18:36:55.499215Z",
     "shell.execute_reply.started": "2024-03-17T18:36:55.487102Z"
    }
   },
   "outputs": [
    {
     "data": {
      "text/plain": [
       "array(['age', 'religion', 'gender', 'other_cyberbullying',\n",
       "       'not_cyberbullying', 'ethnicity'], dtype=object)"
      ]
     },
     "execution_count": 39,
     "metadata": {},
     "output_type": "execute_result"
    }
   ],
   "source": [
    "data_train['cyberbullying_type'].unique()"
   ]
  },
  {
   "cell_type": "code",
   "execution_count": 40,
   "metadata": {
    "execution": {
     "iopub.execute_input": "2024-03-17T18:36:55.501591Z",
     "iopub.status.busy": "2024-03-17T18:36:55.501286Z",
     "iopub.status.idle": "2024-03-17T18:36:55.510267Z",
     "shell.execute_reply": "2024-03-17T18:36:55.509419Z",
     "shell.execute_reply.started": "2024-03-17T18:36:55.501551Z"
    },
    "scrolled": true
   },
   "outputs": [
    {
     "data": {
      "text/plain": [
       "array(['gender', 'religion', 'age', 'other_cyberbullying',\n",
       "       'not_cyberbullying', 'ethnicity'], dtype=object)"
      ]
     },
     "execution_count": 40,
     "metadata": {},
     "output_type": "execute_result"
    }
   ],
   "source": [
    "data_test['cyberbullying_type'].unique()"
   ]
  },
  {
   "cell_type": "code",
   "execution_count": 41,
   "metadata": {
    "execution": {
     "iopub.execute_input": "2024-03-17T18:36:55.511676Z",
     "iopub.status.busy": "2024-03-17T18:36:55.511392Z",
     "iopub.status.idle": "2024-03-17T18:36:55.516401Z",
     "shell.execute_reply": "2024-03-17T18:36:55.515444Z",
     "shell.execute_reply.started": "2024-03-17T18:36:55.511633Z"
    }
   },
   "outputs": [],
   "source": [
    "label_enc = LabelEncoder() \n"
   ]
  },
  {
   "cell_type": "code",
   "execution_count": 42,
   "metadata": {
    "execution": {
     "iopub.execute_input": "2024-03-17T18:36:55.518371Z",
     "iopub.status.busy": "2024-03-17T18:36:55.517732Z",
     "iopub.status.idle": "2024-03-17T18:36:55.549375Z",
     "shell.execute_reply": "2024-03-17T18:36:55.548366Z",
     "shell.execute_reply.started": "2024-03-17T18:36:55.518334Z"
    }
   },
   "outputs": [
    {
     "data": {
      "text/html": [
       "<div>\n",
       "<style scoped>\n",
       "    .dataframe tbody tr th:only-of-type {\n",
       "        vertical-align: middle;\n",
       "    }\n",
       "\n",
       "    .dataframe tbody tr th {\n",
       "        vertical-align: top;\n",
       "    }\n",
       "\n",
       "    .dataframe thead th {\n",
       "        text-align: right;\n",
       "    }\n",
       "</style>\n",
       "<table border=\"1\" class=\"dataframe\">\n",
       "  <thead>\n",
       "    <tr style=\"text-align: right;\">\n",
       "      <th></th>\n",
       "      <th>tweet_text</th>\n",
       "      <th>cyberbullying_type</th>\n",
       "    </tr>\n",
       "  </thead>\n",
       "  <tbody>\n",
       "    <tr>\n",
       "      <th>85583</th>\n",
       "      <td>celebrity like bully inch school twit child ba...</td>\n",
       "      <td>0</td>\n",
       "    </tr>\n",
       "    <tr>\n",
       "      <th>82050</th>\n",
       "      <td>vaulting_horse astatine idea child Washington ...</td>\n",
       "      <td>0</td>\n",
       "    </tr>\n",
       "    <tr>\n",
       "      <th>64289</th>\n",
       "      <td>agree information_technology Washington angstr...</td>\n",
       "      <td>5</td>\n",
       "    </tr>\n",
       "    <tr>\n",
       "      <th>11799</th>\n",
       "      <td>RT I'm sexist. fuck marvel disrespecting Thor ...</td>\n",
       "      <td>2</td>\n",
       "    </tr>\n",
       "    <tr>\n",
       "      <th>28029</th>\n",
       "      <td>RT Pepsi TRASH. gonna nasty product shitty ads</td>\n",
       "      <td>4</td>\n",
       "    </tr>\n",
       "  </tbody>\n",
       "</table>\n",
       "</div>"
      ],
      "text/plain": [
       "                                              tweet_text  cyberbullying_type\n",
       "85583  celebrity like bully inch school twit child ba...                   0\n",
       "82050  vaulting_horse astatine idea child Washington ...                   0\n",
       "64289  agree information_technology Washington angstr...                   5\n",
       "11799  RT I'm sexist. fuck marvel disrespecting Thor ...                   2\n",
       "28029    RT Pepsi TRASH. gonna nasty product shitty ads                    4"
      ]
     },
     "execution_count": 42,
     "metadata": {},
     "output_type": "execute_result"
    }
   ],
   "source": [
    "data_train['cyberbullying_type'] = label_enc.fit_transform(data_train['cyberbullying_type'])\n",
    "data_train.head()"
   ]
  },
  {
   "cell_type": "code",
   "execution_count": 43,
   "metadata": {
    "execution": {
     "iopub.execute_input": "2024-03-17T18:36:55.555175Z",
     "iopub.status.busy": "2024-03-17T18:36:55.554828Z",
     "iopub.status.idle": "2024-03-17T18:36:55.567935Z",
     "shell.execute_reply": "2024-03-17T18:36:55.566984Z",
     "shell.execute_reply.started": "2024-03-17T18:36:55.555136Z"
    }
   },
   "outputs": [],
   "source": [
    "data_test['cyberbullying_type'] = label_enc.transform(data_test['cyberbullying_type'])\n"
   ]
  },
  {
   "cell_type": "code",
   "execution_count": 44,
   "metadata": {
    "execution": {
     "iopub.execute_input": "2024-03-17T18:36:55.569674Z",
     "iopub.status.busy": "2024-03-17T18:36:55.569297Z",
     "iopub.status.idle": "2024-03-17T18:36:55.579014Z",
     "shell.execute_reply": "2024-03-17T18:36:55.577990Z",
     "shell.execute_reply.started": "2024-03-17T18:36:55.569637Z"
    }
   },
   "outputs": [
    {
     "data": {
      "text/plain": [
       "array([2, 5, 0, 4, 3, 1])"
      ]
     },
     "execution_count": 44,
     "metadata": {},
     "output_type": "execute_result"
    }
   ],
   "source": [
    "data_test['cyberbullying_type'].unique()"
   ]
  },
  {
   "cell_type": "code",
   "execution_count": 45,
   "metadata": {
    "execution": {
     "iopub.execute_input": "2024-03-17T18:36:55.581022Z",
     "iopub.status.busy": "2024-03-17T18:36:55.580427Z",
     "iopub.status.idle": "2024-03-17T18:36:55.587713Z",
     "shell.execute_reply": "2024-03-17T18:36:55.586748Z",
     "shell.execute_reply.started": "2024-03-17T18:36:55.580993Z"
    },
    "scrolled": true
   },
   "outputs": [
    {
     "data": {
      "text/plain": [
       "tweet_text            object\n",
       "cyberbullying_type     int64\n",
       "dtype: object"
      ]
     },
     "execution_count": 45,
     "metadata": {},
     "output_type": "execute_result"
    }
   ],
   "source": [
    "data_train.dtypes"
   ]
  },
  {
   "cell_type": "code",
   "execution_count": 46,
   "metadata": {
    "execution": {
     "iopub.execute_input": "2024-03-17T18:36:55.589217Z",
     "iopub.status.busy": "2024-03-17T18:36:55.588890Z",
     "iopub.status.idle": "2024-03-17T18:36:55.596499Z",
     "shell.execute_reply": "2024-03-17T18:36:55.595513Z",
     "shell.execute_reply.started": "2024-03-17T18:36:55.589184Z"
    }
   },
   "outputs": [
    {
     "data": {
      "text/plain": [
       "array([0, 5, 2, 4, 3, 1])"
      ]
     },
     "execution_count": 46,
     "metadata": {},
     "output_type": "execute_result"
    }
   ],
   "source": [
    "data_train['cyberbullying_type'].unique()"
   ]
  },
  {
   "cell_type": "code",
   "execution_count": 47,
   "metadata": {
    "execution": {
     "iopub.execute_input": "2024-03-17T18:36:55.597899Z",
     "iopub.status.busy": "2024-03-17T18:36:55.597615Z",
     "iopub.status.idle": "2024-03-17T18:36:55.606024Z",
     "shell.execute_reply": "2024-03-17T18:36:55.605107Z",
     "shell.execute_reply.started": "2024-03-17T18:36:55.597864Z"
    }
   },
   "outputs": [
    {
     "data": {
      "text/plain": [
       "cyberbullying_type\n",
       "5    11192\n",
       "0    11183\n",
       "1    11135\n",
       "2    11116\n",
       "3    11092\n",
       "4    10929\n",
       "Name: count, dtype: int64"
      ]
     },
     "execution_count": 47,
     "metadata": {},
     "output_type": "execute_result"
    }
   ],
   "source": [
    "data_train['cyberbullying_type'].value_counts()"
   ]
  },
  {
   "cell_type": "markdown",
   "metadata": {},
   "source": [
    "#### Label encoder encodes data by alphabetical order. "
   ]
  },
  {
   "cell_type": "code",
   "execution_count": 48,
   "metadata": {
    "execution": {
     "iopub.execute_input": "2024-03-17T18:36:55.607974Z",
     "iopub.status.busy": "2024-03-17T18:36:55.607369Z",
     "iopub.status.idle": "2024-03-17T18:36:55.613714Z",
     "shell.execute_reply": "2024-03-17T18:36:55.612706Z",
     "shell.execute_reply.started": "2024-03-17T18:36:55.607934Z"
    }
   },
   "outputs": [],
   "source": [
    "# data_train['cyberbullying_type'].value_counts()\n",
    "\n",
    "\n",
    "# '''\n",
    "# Cyberbullying labels are\n",
    "\n",
    "# 0 - age\n",
    "# 1 - ethnicity\n",
    "# 2 - gender\n",
    "# 3 - not_cyberbullying\n",
    "# 4 - other_cyberbullying\n",
    "# 5 - religion\n",
    "# '''"
   ]
  },
  {
   "cell_type": "markdown",
   "metadata": {},
   "source": [
    "### Tokenize train input text with bert's Autotokenizer that we imported earlier."
   ]
  },
  {
   "cell_type": "code",
   "execution_count": 49,
   "metadata": {
    "execution": {
     "iopub.execute_input": "2024-03-17T18:36:55.615096Z",
     "iopub.status.busy": "2024-03-17T18:36:55.614807Z",
     "iopub.status.idle": "2024-03-17T18:37:02.495767Z",
     "shell.execute_reply": "2024-03-17T18:37:02.494711Z",
     "shell.execute_reply.started": "2024-03-17T18:36:55.615069Z"
    }
   },
   "outputs": [],
   "source": [
    "x_train = tokenizer(\n",
    "#     text = x_train.tolist(),\n",
    "    text = data_train['tweet_text'].tolist(),\n",
    "    add_special_tokens = True,\n",
    "    max_length = 100,\n",
    "    truncation = True,\n",
    "    padding = True,\n",
    "    return_tensors = 'tf',\n",
    "    return_token_type_ids = False,\n",
    "    return_attention_mask = True,\n",
    "    verbose = True\n",
    ")"
   ]
  },
  {
   "cell_type": "code",
   "execution_count": 50,
   "metadata": {
    "execution": {
     "iopub.execute_input": "2024-03-17T18:37:02.498016Z",
     "iopub.status.busy": "2024-03-17T18:37:02.497497Z",
     "iopub.status.idle": "2024-03-17T18:37:02.506067Z",
     "shell.execute_reply": "2024-03-17T18:37:02.505135Z",
     "shell.execute_reply.started": "2024-03-17T18:37:02.497973Z"
    }
   },
   "outputs": [
    {
     "data": {
      "text/plain": [
       "<tf.Tensor: shape=(66647, 100), dtype=int32, numpy=\n",
       "array([[  101, 10948,  1176, ...,     0,     0,     0],\n",
       "       [  101, 13454,  1158, ...,     0,     0,     0],\n",
       "       [  101,  5340,  1869, ...,     0,     0,     0],\n",
       "       ...,\n",
       "       [  101, 10259,  1855, ...,     0,     0,     0],\n",
       "       [  101,  1126,  5700, ...,     0,     0,     0],\n",
       "       [  101,   137,   179, ...,     0,     0,     0]], dtype=int32)>"
      ]
     },
     "execution_count": 50,
     "metadata": {},
     "output_type": "execute_result"
    }
   ],
   "source": [
    "x_train['input_ids']"
   ]
  },
  {
   "cell_type": "markdown",
   "metadata": {},
   "source": [
    "### Building the model and fine-tuning the model.\n",
    "\n",
    "The first value returned by BERT model at index 0 is the last hidden state, 1 means pooler_output\n",
    "We need only the hidden state, so that we can add more layers and fine-tune the model.\n",
    "We'll use functional API"
   ]
  },
  {
   "cell_type": "code",
   "execution_count": 51,
   "metadata": {
    "execution": {
     "iopub.execute_input": "2024-03-17T18:37:02.507625Z",
     "iopub.status.busy": "2024-03-17T18:37:02.507328Z",
     "iopub.status.idle": "2024-03-17T18:37:04.142038Z",
     "shell.execute_reply": "2024-03-17T18:37:04.141211Z",
     "shell.execute_reply.started": "2024-03-17T18:37:02.507599Z"
    }
   },
   "outputs": [],
   "source": [
    "max_len = 100\n",
    "\n",
    "\n",
    "input_ids = Input(shape=(max_len,), dtype=tf.int32, name='input_ids')\n",
    "input_mask = Input(shape=(max_len,), dtype=tf.int32, name='attention_mask')\n",
    "\n",
    "# 0 is the last hidden state, 1 means pooler_output\n",
    "# We need only the hidden state, so that we can add more layers and fine-tune the model.\n",
    "# We'll use functional API\n",
    "embeddings = bert(input_ids, attention_mask=input_mask)[0]\n",
    "out = tf.keras.layers.GlobalMaxPool1D()(embeddings)\n",
    "out = Dense(128, activation='relu')(out)\n",
    "out = tf.keras.layers.Dropout(0.1)(out)\n",
    "out = Dense(32, activation='relu')(out)\n",
    "\n",
    "y = Dense(6, activation='sigmoid')(out)\n",
    "\n",
    "model = tf.keras.Model(inputs=[input_ids, input_mask], outputs=y)\n",
    "model.layers[2].trainable = True"
   ]
  },
  {
   "cell_type": "markdown",
   "metadata": {},
   "source": [
    "### Compile the model."
   ]
  },
  {
   "cell_type": "code",
   "execution_count": 52,
   "metadata": {
    "execution": {
     "iopub.execute_input": "2024-03-17T18:37:04.143533Z",
     "iopub.status.busy": "2024-03-17T18:37:04.143234Z",
     "iopub.status.idle": "2024-03-17T18:37:04.178323Z",
     "shell.execute_reply": "2024-03-17T18:37:04.177408Z",
     "shell.execute_reply.started": "2024-03-17T18:37:04.143500Z"
    }
   },
   "outputs": [
    {
     "name": "stdout",
     "output_type": "stream",
     "text": [
      "Model: \"model\"\n",
      "__________________________________________________________________________________________________\n",
      " Layer (type)                   Output Shape         Param #     Connected to                     \n",
      "==================================================================================================\n",
      " input_ids (InputLayer)         [(None, 100)]        0           []                               \n",
      "                                                                                                  \n",
      " attention_mask (InputLayer)    [(None, 100)]        0           []                               \n",
      "                                                                                                  \n",
      " tf_bert_model (TFBertModel)    TFBaseModelOutputWi  108310272   ['input_ids[0][0]',              \n",
      "                                thPoolingAndCrossAt               'attention_mask[0][0]']         \n",
      "                                tentions(last_hidde                                               \n",
      "                                n_state=(None, 100,                                               \n",
      "                                 768),                                                            \n",
      "                                 pooler_output=(Non                                               \n",
      "                                e, 768),                                                          \n",
      "                                 past_key_values=No                                               \n",
      "                                ne, hidden_states=N                                               \n",
      "                                one, attentions=Non                                               \n",
      "                                e, cross_attentions                                               \n",
      "                                =None)                                                            \n",
      "                                                                                                  \n",
      " global_max_pooling1d (GlobalMa  (None, 768)         0           ['tf_bert_model[0][0]']          \n",
      " xPooling1D)                                                                                      \n",
      "                                                                                                  \n",
      " dense (Dense)                  (None, 128)          98432       ['global_max_pooling1d[0][0]']   \n",
      "                                                                                                  \n",
      " dropout_37 (Dropout)           (None, 128)          0           ['dense[0][0]']                  \n",
      "                                                                                                  \n",
      " dense_1 (Dense)                (None, 32)           4128        ['dropout_37[0][0]']             \n",
      "                                                                                                  \n",
      " dense_2 (Dense)                (None, 6)            198         ['dense_1[0][0]']                \n",
      "                                                                                                  \n",
      "==================================================================================================\n",
      "Total params: 108,413,030\n",
      "Trainable params: 108,413,030\n",
      "Non-trainable params: 0\n",
      "__________________________________________________________________________________________________\n"
     ]
    }
   ],
   "source": [
    "# Bert model requires a specific learning rate as stated in the huggingface website\n",
    "\n",
    "optimizer = Adam(\n",
    "    learning_rate=5e-05,\n",
    "    epsilon=1e-08,\n",
    "    decay=0.01,\n",
    "    clipnorm=1.0\n",
    ")\n",
    "\n",
    "loss = CategoricalCrossentropy(from_logits=True)\n",
    "metric = CategoricalAccuracy('balanced_accuracy')\n",
    "\n",
    "model.compile(\n",
    "    optimizer=optimizer,\n",
    "    loss=loss,\n",
    "    metrics=metric)\n",
    "\n",
    "model.summary()"
   ]
  },
  {
   "cell_type": "markdown",
   "metadata": {},
   "source": [
    "**Tokenize test data.**"
   ]
  },
  {
   "cell_type": "code",
   "execution_count": 53,
   "metadata": {
    "execution": {
     "iopub.execute_input": "2024-03-17T18:37:04.180220Z",
     "iopub.status.busy": "2024-03-17T18:37:04.179541Z",
     "iopub.status.idle": "2024-03-17T18:37:07.832736Z",
     "shell.execute_reply": "2024-03-17T18:37:07.831866Z",
     "shell.execute_reply.started": "2024-03-17T18:37:04.180181Z"
    }
   },
   "outputs": [],
   "source": [
    "x_test = tokenizer(\n",
    "    text = data_test['tweet_text'].tolist(), \n",
    "    add_special_tokens = True,\n",
    "    max_length = 100,\n",
    "    truncation = True,\n",
    "    padding = True,\n",
    "    return_tensors = 'tf',\n",
    "    return_token_type_ids = False,\n",
    "    return_attention_mask = True,\n",
    "    verbose = True\n",
    ")\n"
   ]
  },
  {
   "cell_type": "code",
   "execution_count": 41,
   "metadata": {},
   "outputs": [
    {
     "name": "stdout",
     "output_type": "stream",
     "text": [
      "Epoch 1/30\n"
     ]
    },
    {
     "name": "stderr",
     "output_type": "stream",
     "text": [
      "/usr/local/lib/python3.8/dist-packages/tensorflow/python/util/dispatch.py:1082: UserWarning: \"`categorical_crossentropy` received `from_logits=True`, but the `output` argument was produced by a sigmoid or softmax activation and thus does not represent logits. Was this intended?\"\n",
      "  return dispatch_target(*args, **kwargs)\n"
     ]
    },
    {
     "name": "stdout",
     "output_type": "stream",
     "text": [
      "WARNING:tensorflow:Gradients do not exist for variables ['tf_bert_model/bert/pooler/dense/kernel:0', 'tf_bert_model/bert/pooler/dense/bias:0'] when minimizing the loss. If you're using `model.compile()`, did you forget to provide a `loss`argument?\n",
      "WARNING:tensorflow:Gradients do not exist for variables ['tf_bert_model/bert/pooler/dense/kernel:0', 'tf_bert_model/bert/pooler/dense/bias:0'] when minimizing the loss. If you're using `model.compile()`, did you forget to provide a `loss`argument?\n",
      "667/667 [==============================] - 1370s 2s/step - loss: 0.4839 - balanced_accuracy: 0.8039 - val_loss: 0.3703 - val_balanced_accuracy: 0.8494\n",
      "Epoch 2/30\n",
      "667/667 [==============================] - 1309s 2s/step - loss: 0.3530 - balanced_accuracy: 0.8554 - val_loss: 0.3564 - val_balanced_accuracy: 0.8584\n",
      "Epoch 3/30\n",
      "667/667 [==============================] - 1309s 2s/step - loss: 0.3240 - balanced_accuracy: 0.8682 - val_loss: 0.3481 - val_balanced_accuracy: 0.8625\n",
      "Epoch 4/30\n",
      "667/667 [==============================] - 1309s 2s/step - loss: 0.3072 - balanced_accuracy: 0.8770 - val_loss: 0.3462 - val_balanced_accuracy: 0.8627\n",
      "Epoch 5/30\n",
      "667/667 [==============================] - 1309s 2s/step - loss: 0.2939 - balanced_accuracy: 0.8813 - val_loss: 0.3475 - val_balanced_accuracy: 0.8628\n",
      "Epoch 6/30\n",
      "667/667 [==============================] - 1322s 2s/step - loss: 0.2857 - balanced_accuracy: 0.8846 - val_loss: 0.3499 - val_balanced_accuracy: 0.8622\n",
      "Epoch 7/30\n",
      "667/667 [==============================] - 1326s 2s/step - loss: 0.2768 - balanced_accuracy: 0.8882 - val_loss: 0.3473 - val_balanced_accuracy: 0.8638\n",
      "Epoch 8/30\n",
      "667/667 [==============================] - 1324s 2s/step - loss: 0.2697 - balanced_accuracy: 0.8925 - val_loss: 0.3455 - val_balanced_accuracy: 0.8651\n",
      "Epoch 9/30\n",
      "667/667 [==============================] - 1319s 2s/step - loss: 0.2656 - balanced_accuracy: 0.8939 - val_loss: 0.3446 - val_balanced_accuracy: 0.8656\n",
      "Epoch 10/30\n",
      "667/667 [==============================] - 1310s 2s/step - loss: 0.2600 - balanced_accuracy: 0.8957 - val_loss: 0.3457 - val_balanced_accuracy: 0.8652\n",
      "Epoch 11/30\n",
      "667/667 [==============================] - 1310s 2s/step - loss: 0.2554 - balanced_accuracy: 0.8972 - val_loss: 0.3447 - val_balanced_accuracy: 0.8649\n",
      "Epoch 12/30\n",
      "667/667 [==============================] - 1310s 2s/step - loss: 0.2506 - balanced_accuracy: 0.9002 - val_loss: 0.3443 - val_balanced_accuracy: 0.8663\n",
      "Epoch 13/30\n",
      "667/667 [==============================] - 1309s 2s/step - loss: 0.2479 - balanced_accuracy: 0.9001 - val_loss: 0.3432 - val_balanced_accuracy: 0.8667\n",
      "Epoch 14/30\n",
      "667/667 [==============================] - 1310s 2s/step - loss: 0.2452 - balanced_accuracy: 0.9015 - val_loss: 0.3477 - val_balanced_accuracy: 0.8669\n",
      "Epoch 15/30\n",
      "667/667 [==============================] - 1310s 2s/step - loss: 0.2413 - balanced_accuracy: 0.9036 - val_loss: 0.3442 - val_balanced_accuracy: 0.8671\n",
      "Epoch 16/30\n",
      "667/667 [==============================] - 1311s 2s/step - loss: 0.2387 - balanced_accuracy: 0.9050 - val_loss: 0.3477 - val_balanced_accuracy: 0.8671\n",
      "Epoch 17/30\n",
      "667/667 [==============================] - 1311s 2s/step - loss: 0.2374 - balanced_accuracy: 0.9052 - val_loss: 0.3458 - val_balanced_accuracy: 0.8672\n",
      "Epoch 18/30\n",
      "667/667 [==============================] - 1310s 2s/step - loss: 0.2334 - balanced_accuracy: 0.9078 - val_loss: 0.3483 - val_balanced_accuracy: 0.8666\n",
      "Epoch 19/30\n",
      "667/667 [==============================] - 1309s 2s/step - loss: 0.2318 - balanced_accuracy: 0.9076 - val_loss: 0.3438 - val_balanced_accuracy: 0.8678\n",
      "Epoch 20/30\n",
      "667/667 [==============================] - 1311s 2s/step - loss: 0.2310 - balanced_accuracy: 0.9081 - val_loss: 0.3463 - val_balanced_accuracy: 0.8672\n",
      "Epoch 21/30\n",
      "667/667 [==============================] - 1310s 2s/step - loss: 0.2280 - balanced_accuracy: 0.9094 - val_loss: 0.3502 - val_balanced_accuracy: 0.8672\n",
      "Epoch 22/30\n",
      "667/667 [==============================] - 1310s 2s/step - loss: 0.2270 - balanced_accuracy: 0.9094 - val_loss: 0.3456 - val_balanced_accuracy: 0.8682\n",
      "Epoch 23/30\n",
      "667/667 [==============================] - 1348s 2s/step - loss: 0.2246 - balanced_accuracy: 0.9106 - val_loss: 0.3474 - val_balanced_accuracy: 0.8677\n",
      "Epoch 24/30\n",
      "667/667 [==============================] - 1310s 2s/step - loss: 0.2226 - balanced_accuracy: 0.9109 - val_loss: 0.3474 - val_balanced_accuracy: 0.8685\n",
      "Epoch 25/30\n",
      "667/667 [==============================] - 1310s 2s/step - loss: 0.2209 - balanced_accuracy: 0.9125 - val_loss: 0.3504 - val_balanced_accuracy: 0.8677\n",
      "Epoch 26/30\n",
      "667/667 [==============================] - 1310s 2s/step - loss: 0.2195 - balanced_accuracy: 0.9123 - val_loss: 0.3495 - val_balanced_accuracy: 0.8684\n",
      "Epoch 27/30\n",
      "667/667 [==============================] - 1310s 2s/step - loss: 0.2189 - balanced_accuracy: 0.9126 - val_loss: 0.3512 - val_balanced_accuracy: 0.8686\n",
      "Epoch 28/30\n",
      "667/667 [==============================] - 1311s 2s/step - loss: 0.2174 - balanced_accuracy: 0.9142 - val_loss: 0.3494 - val_balanced_accuracy: 0.8678\n",
      "Epoch 29/30\n",
      "667/667 [==============================] - 1310s 2s/step - loss: 0.2160 - balanced_accuracy: 0.9139 - val_loss: 0.3515 - val_balanced_accuracy: 0.8677\n",
      "Epoch 30/30\n",
      "667/667 [==============================] - 1309s 2s/step - loss: 0.2138 - balanced_accuracy: 0.9145 - val_loss: 0.3513 - val_balanced_accuracy: 0.8689\n"
     ]
    }
   ],
   "source": [
    "\n",
    "# Train the model with GPU\n",
    "with tf.device('/GPU:0'):  # Specify GPU device\n",
    "    bert_train = model.fit(\n",
    "    x={'input_ids':x_train['input_ids'], 'attention_mask':x_train['attention_mask']},\n",
    "    y=to_categorical(data_train.cyberbullying_type),\n",
    "    validation_data=(\n",
    "        {'input_ids':x_test['input_ids'], 'attention_mask':x_test['attention_mask']},to_categorical(data_test.cyberbullying_type)\n",
    "    ),\n",
    "    epochs=30,\n",
    "    batch_size=100\n",
    "    )"
   ]
  },
  {
   "cell_type": "code",
   "execution_count": 42,
   "metadata": {
    "execution": {
     "iopub.execute_input": "2024-03-17T18:37:07.836319Z",
     "iopub.status.busy": "2024-03-17T18:37:07.835884Z"
    }
   },
   "outputs": [],
   "source": [
    "# bert_train = model.fit(\n",
    "#     x={'input_ids':x_train['input_ids'], 'attention_mask':x_train['attention_mask']},\n",
    "#     y=to_categorical(data_train.cyberbullying_type),\n",
    "#     validation_data=(\n",
    "#         {'input_ids':x_test['input_ids'], 'attention_mask':x_test['attention_mask']},to_categorical(data_test.cyberbullying_type)\n",
    "#     ),\n",
    "#     epochs=30,\n",
    "#     batch_size=64\n",
    "# )"
   ]
  },
  {
   "cell_type": "code",
   "execution_count": 47,
   "metadata": {},
   "outputs": [
    {
     "data": {
      "image/png": "[encoded data removed]",
      "text/plain": [
       "<Figure size 640x480 with 1 Axes>"
      ]
     },
     "metadata": {},
     "output_type": "display_data"
    }
   ],
   "source": [
    "plt.plot(bert_train.history['balanced_accuracy'])\n",
    "plt.plot(bert_train.history['val_balanced_accuracy'])\n",
    "plt.title('model accuracy')\n",
    "plt.ylabel('accuracy')\n",
    "plt.xlabel('epoch')\n",
    "plt.legend(['train', 'val'], loc='upper left')\n",
    "plt.show()"
   ]
  },
  {
   "cell_type": "code",
   "execution_count": 49,
   "metadata": {},
   "outputs": [
    {
     "data": {
      "image/png": "[encoded data removed]",
      "text/plain": [
       "<Figure size 640x480 with 1 Axes>"
      ]
     },
     "metadata": {},
     "output_type": "display_data"
    }
   ],
   "source": [
    "plt.plot(bert_train.history['loss'])\n",
    "plt.plot(bert_train.history['val_loss'])\n",
    "plt.title('Loss graph')\n",
    "plt.ylabel('loss')\n",
    "plt.xlabel('epoch')\n",
    "plt.legend(['train', 'val'], loc='upper left')\n",
    "plt.show()"
   ]
  },
  {
   "cell_type": "markdown",
   "metadata": {},
   "source": [
    "#### Results"
   ]
  },
  {
   "cell_type": "code",
   "execution_count": 50,
   "metadata": {},
   "outputs": [],
   "source": [
    "# To use bert model later, we need to save both the weights and the model architecture and load them both. \n",
    "# We already saved the model architechture above when we downloaded the model.\n",
    "\n",
    "\n",
    "model.save_weights('model_cyber.h5')\n",
    "\n",
    "# To use the mode again, load it into memory\n",
    "# model.load_weights('model_cyber.h5')"
   ]
  },
  {
   "cell_type": "code",
   "execution_count": 54,
   "metadata": {},
   "outputs": [],
   "source": [
    "model.load_weights('model_cyber.h5')"
   ]
  },
  {
   "cell_type": "code",
   "execution_count": 55,
   "metadata": {},
   "outputs": [
    {
     "name": "stdout",
     "output_type": "stream",
     "text": [
      "893/893 [==============================] - 175s 193ms/step\n"
     ]
    }
   ],
   "source": [
    "pred_raw = model.predict({'input_ids':x_test['input_ids'], 'attention_mask':x_test['attention_mask']})"
   ]
  },
  {
   "cell_type": "code",
   "execution_count": 56,
   "metadata": {
    "scrolled": true
   },
   "outputs": [
    {
     "data": {
      "text/plain": [
       "array([0.00804324, 0.08588719, 0.99950933, 0.19726022, 0.14775369,\n",
       "       0.03834678], dtype=float32)"
      ]
     },
     "execution_count": 56,
     "metadata": {},
     "output_type": "execute_result"
    }
   ],
   "source": [
    "pred_raw[0]"
   ]
  },
  {
   "cell_type": "code",
   "execution_count": 57,
   "metadata": {},
   "outputs": [],
   "source": [
    "y_pred = np.argmax(pred_raw, axis=1)"
   ]
  },
  {
   "cell_type": "code",
   "execution_count": 58,
   "metadata": {},
   "outputs": [
    {
     "data": {
      "text/plain": [
       "10732    2\n",
       "71375    5\n",
       "81389    0\n",
       "16896    5\n",
       "37995    0\n",
       "        ..\n",
       "85189    0\n",
       "87043    0\n",
       "69183    5\n",
       "41504    1\n",
       "61148    2\n",
       "Name: cyberbullying_type, Length: 28563, dtype: int64"
      ]
     },
     "execution_count": 58,
     "metadata": {},
     "output_type": "execute_result"
    }
   ],
   "source": [
    "data_test.cyberbullying_type "
   ]
  },
  {
   "cell_type": "code",
   "execution_count": 59,
   "metadata": {
    "scrolled": true
   },
   "outputs": [
    {
     "name": "stdout",
     "output_type": "stream",
     "text": [
      "              precision    recall  f1-score   support\n",
      "\n",
      "           0       0.98      0.98      0.98      4792\n",
      "           1       0.98      0.98      0.98      4772\n",
      "           2       0.85      0.92      0.88      4764\n",
      "           3       0.75      0.58      0.65      4754\n",
      "           4       0.69      0.79      0.73      4684\n",
      "           5       0.96      0.96      0.96      4797\n",
      "\n",
      "    accuracy                           0.87     28563\n",
      "   macro avg       0.87      0.87      0.87     28563\n",
      "weighted avg       0.87      0.87      0.87     28563\n",
      "\n"
     ]
    }
   ],
   "source": [
    "print(classification_report(data_test.cyberbullying_type, y_pred))"
   ]
  },
  {
   "cell_type": "code",
   "execution_count": 61,
   "metadata": {},
   "outputs": [
    {
     "name": "stdout",
     "output_type": "stream",
     "text": [
      "0.8689213317928789\n"
     ]
    }
   ],
   "source": [
    "from sklearn.metrics import accuracy_score,confusion_matrix\n",
    "print(accuracy_score(data_test.cyberbullying_type,y_pred))"
   ]
  },
  {
   "cell_type": "code",
   "execution_count": 63,
   "metadata": {},
   "outputs": [
    {
     "data": {
      "text/plain": [
       "<Axes: >"
      ]
     },
     "execution_count": 63,
     "metadata": {},
     "output_type": "execute_result"
    },
    {
     "data": {
      "image/png": "[encoded data removed]",
      "text/plain": [
       "<Figure size 640x480 with 2 Axes>"
      ]
     },
     "metadata": {},
     "output_type": "display_data"
    }
   ],
   "source": [
    "cm = confusion_matrix(data_test.cyberbullying_type, y_pred)\n",
    "sns.heatmap(cm,cmap=\"Blues\",annot=True)"
   ]
  },
  {
   "cell_type": "code",
   "execution_count": 57,
   "metadata": {},
   "outputs": [],
   "source": [
    "##Few Test tweets belonging to different classes"
   ]
  },
  {
   "cell_type": "code",
   "execution_count": 103,
   "metadata": {},
   "outputs": [],
   "source": [
    "tweet_samples = [\n",
    "    \"Kiddies have written 15 Christmas cards each... only another 48 each to go and that's only the ones for school!\",\n",
    "    \"reading a manga and my friend texts me asking if i can meet up to discuss our project. That's okay, I guess.\",\n",
    "    \"RT @TooBadDJs I'm not sexist at all, but I don't want to watch a ghostbusters film with just women in it #SoSueMe\",\n",
    "    \"Somehow, I doubt it. @sellis94 More people would be satisfied with me as president than a women #notsexist #NeverYield\",\n",
    "    \"Can you imagine this idiot calling for the Muslim vote?\",\n",
    "    \"@lsarsour @abu__ramadi 3 executions? That's about one tenths of a days worth for Islamically correct ISIS.\",\n",
    "    \"Girls who dress like this bullied me in middle school and high school\",\n",
    "    \"im sitting outside with luna, and i swear on my life three girls walked past and i heard one say she looks like a lesbian. i am suddenly 17 and being bullied in high school again.\",\n",
    "    \"Lebron James is a stupid cocky ass dumb nigger. Would of made a good slave but stupid fucks wanted equality.\",\n",
    "    \"Lol this girl is posting inspiration memes and black lives matter quotes. But when your white friend called us a negro in lecture, your ears stopped working and your gum stayed closed. KMFT\"\n",
    "]"
   ]
  },
  {
   "cell_type": "code",
   "execution_count": 104,
   "metadata": {},
   "outputs": [],
   "source": [
    "df = pd.DataFrame(tweet_samples, columns=['tweet_text'])"
   ]
  },
  {
   "cell_type": "code",
   "execution_count": 105,
   "metadata": {},
   "outputs": [],
   "source": [
    "df['tweet_text'] = df['tweet_text'].apply(nfx.remove_hashtags)\n",
    "df['tweet_text'] = df['tweet_text'].apply(nfx.remove_userhandles)\n",
    "df['tweet_text'] = df['tweet_text'].apply(nfx.remove_multiple_spaces)\n",
    "df['tweet_text'] = df['tweet_text'].apply(nfx.remove_stopwords)\n",
    "df['tweet_text'] = df['tweet_text'].apply(nfx.remove_urls)\n",
    "df['tweet_text'] = df['tweet_text'].apply(nfx.remove_html_tags)\n",
    "df['tweet_text'] = df['tweet_text'].apply(nfx.remove_emojis)\n",
    "df['tweet_text'] = df['tweet_text'].apply(nfx.fix_contractions)\n",
    "df['tweet_text'] = df['tweet_text'].apply(nfx.remove_special_characters)\n",
    "df['tweet_text'] = df['tweet_text'].apply(nfx.remove_puncts)"
   ]
  },
  {
   "cell_type": "code",
   "execution_count": 110,
   "metadata": {},
   "outputs": [
    {
     "data": {
      "text/plain": [
       "5    3 executions that is tenths days worth islamic...\n",
       "9    lol girl posting inspiration memes black lives...\n",
       "8    lebron james stupid cocky ass dumb nigger good...\n",
       "0    kiddies written 15 christmas cards each 48 tha...\n",
       "6    girls dress like bullied middle school high sc...\n",
       "Name: tweet_text, dtype: object"
      ]
     },
     "execution_count": 110,
     "metadata": {},
     "output_type": "execute_result"
    }
   ],
   "source": [
    "df['tweet_text'].sample(5)"
   ]
  },
  {
   "cell_type": "code",
   "execution_count": 115,
   "metadata": {},
   "outputs": [],
   "source": [
    "max_length = 100\n",
    "sample_data = tokenizer(\n",
    "    text = df['tweet_text'].tolist(), \n",
    "    add_special_tokens = True,\n",
    "    max_length = 100,\n",
    "    truncation = True,\n",
    "    padding = 'max_length',\n",
    "    return_tensors = 'tf',\n",
    "    return_token_type_ids = False,\n",
    "    return_attention_mask = True,\n",
    "    verbose = True\n",
    ")"
   ]
  },
  {
   "cell_type": "code",
   "execution_count": 116,
   "metadata": {},
   "outputs": [
    {
     "data": {
      "text/plain": [
       "<tf.Tensor: shape=(10, 100), dtype=int32, numpy=\n",
       "array([[  101,  5102, 10831,  1637,  1405, 22572, 12937,  7941,  4802,\n",
       "         1296,  3615,  1115,  1110,  3200,  1278,   102,     0,     0,\n",
       "            0,     0,     0,     0,     0,     0,     0,     0,     0,\n",
       "            0,     0,     0,     0,     0,     0,     0,     0,     0,\n",
       "            0,     0,     0,     0,     0,     0,     0,     0,     0,\n",
       "            0,     0,     0,     0,     0,     0,     0,     0,     0,\n",
       "            0,     0,     0,     0,     0,     0,     0,     0,     0,\n",
       "            0,     0,     0,     0,     0,     0,     0,     0,     0,\n",
       "            0,     0,     0,     0,     0,     0,     0,     0,     0,\n",
       "            0,     0,     0,     0,     0,     0,     0,     0,     0,\n",
       "            0,     0,     0,     0,     0,     0,     0,     0,     0,\n",
       "            0],\n",
       "       [  101,  3455,  9675,  1910,  6685,  4107,  2283,  6265,  1933,\n",
       "         1115,  1110,  3008,  3319,   102,     0,     0,     0,     0,\n",
       "            0,     0,     0,     0,     0,     0,     0,     0,     0,\n",
       "            0,     0,     0,     0,     0,     0,     0,     0,     0,\n",
       "            0,     0,     0,     0,     0,     0,     0,     0,     0,\n",
       "            0,     0,     0,     0,     0,     0,     0,     0,     0,\n",
       "            0,     0,     0,     0,     0,     0,     0,     0,     0,\n",
       "            0,     0,     0,     0,     0,     0,     0,     0,     0,\n",
       "            0,     0,     0,     0,     0,     0,     0,     0,     0,\n",
       "            0,     0,     0,     0,     0,     0,     0,     0,     0,\n",
       "            0,     0,     0,     0,     0,     0,     0,     0,     0,\n",
       "            0],\n",
       "       [  101,   187,  1204,   178,  1821,  2673,  1776,  1155,  1328,\n",
       "         2824,  7483, 27338,  1116,  1273,  1535,   102,     0,     0,\n",
       "            0,     0,     0,     0,     0,     0,     0,     0,     0,\n",
       "            0,     0,     0,     0,     0,     0,     0,     0,     0,\n",
       "            0,     0,     0,     0,     0,     0,     0,     0,     0,\n",
       "            0,     0,     0,     0,     0,     0,     0,     0,     0,\n",
       "            0,     0,     0,     0,     0,     0,     0,     0,     0,\n",
       "            0,     0,     0,     0,     0,     0,     0,     0,     0,\n",
       "            0,     0,     0,     0,     0,     0,     0,     0,     0,\n",
       "            0,     0,     0,     0,     0,     0,     0,     0,     0,\n",
       "            0,     0,     0,     0,     0,     0,     0,     0,     0,\n",
       "            0],\n",
       "       [  101,  5006,  4095,  1122,  1234,  8723,  2084,  1535,   102,\n",
       "            0,     0,     0,     0,     0,     0,     0,     0,     0,\n",
       "            0,     0,     0,     0,     0,     0,     0,     0,     0,\n",
       "            0,     0,     0,     0,     0,     0,     0,     0,     0,\n",
       "            0,     0,     0,     0,     0,     0,     0,     0,     0,\n",
       "            0,     0,     0,     0,     0,     0,     0,     0,     0,\n",
       "            0,     0,     0,     0,     0,     0,     0,     0,     0,\n",
       "            0,     0,     0,     0,     0,     0,     0,     0,     0,\n",
       "            0,     0,     0,     0,     0,     0,     0,     0,     0,\n",
       "            0,     0,     0,     0,     0,     0,     0,     0,     0,\n",
       "            0,     0,     0,     0,     0,     0,     0,     0,     0,\n",
       "            0],\n",
       "       [  101,  5403, 10696,  3516,   182,  1361, 24891,  2992,   102,\n",
       "            0,     0,     0,     0,     0,     0,     0,     0,     0,\n",
       "            0,     0,     0,     0,     0,     0,     0,     0,     0,\n",
       "            0,     0,     0,     0,     0,     0,     0,     0,     0,\n",
       "            0,     0,     0,     0,     0,     0,     0,     0,     0,\n",
       "            0,     0,     0,     0,     0,     0,     0,     0,     0,\n",
       "            0,     0,     0,     0,     0,     0,     0,     0,     0,\n",
       "            0,     0,     0,     0,     0,     0,     0,     0,     0,\n",
       "            0,     0,     0,     0,     0,     0,     0,     0,     0,\n",
       "            0,     0,     0,     0,     0,     0,     0,     0,     0,\n",
       "            0,     0,     0,     0,     0,     0,     0,     0,     0,\n",
       "            0],\n",
       "       [  101,   124, 26107,  1115,  1110,  8281,  1116,  1552,  3869,\n",
       "         1110,  7609,  9203,  5663,  1110,  1548,   102,     0,     0,\n",
       "            0,     0,     0,     0,     0,     0,     0,     0,     0,\n",
       "            0,     0,     0,     0,     0,     0,     0,     0,     0,\n",
       "            0,     0,     0,     0,     0,     0,     0,     0,     0,\n",
       "            0,     0,     0,     0,     0,     0,     0,     0,     0,\n",
       "            0,     0,     0,     0,     0,     0,     0,     0,     0,\n",
       "            0,     0,     0,     0,     0,     0,     0,     0,     0,\n",
       "            0,     0,     0,     0,     0,     0,     0,     0,     0,\n",
       "            0,     0,     0,     0,     0,     0,     0,     0,     0,\n",
       "            0,     0,     0,     0,     0,     0,     0,     0,     0,\n",
       "            0],\n",
       "       [  101,  2636,  3642,  1176, 12200,  4830,  2243,  1278,  1344,\n",
       "         1278,   102,     0,     0,     0,     0,     0,     0,     0,\n",
       "            0,     0,     0,     0,     0,     0,     0,     0,     0,\n",
       "            0,     0,     0,     0,     0,     0,     0,     0,     0,\n",
       "            0,     0,     0,     0,     0,     0,     0,     0,     0,\n",
       "            0,     0,     0,     0,     0,     0,     0,     0,     0,\n",
       "            0,     0,     0,     0,     0,     0,     0,     0,     0,\n",
       "            0,     0,     0,     0,     0,     0,     0,     0,     0,\n",
       "            0,     0,     0,     0,     0,     0,     0,     0,     0,\n",
       "            0,     0,     0,     0,     0,     0,     0,     0,     0,\n",
       "            0,     0,     0,     0,     0,     0,     0,     0,     0,\n",
       "            0],\n",
       "       [  101, 13280,  2807,  1796,   181,  9291,  8222,  1297,  2636,\n",
       "         2045,  1763,  1767,  2736,  1176, 15026,  2840,  1542, 12200,\n",
       "         4830,  1344,  1278,  1254,   102,     0,     0,     0,     0,\n",
       "            0,     0,     0,     0,     0,     0,     0,     0,     0,\n",
       "            0,     0,     0,     0,     0,     0,     0,     0,     0,\n",
       "            0,     0,     0,     0,     0,     0,     0,     0,     0,\n",
       "            0,     0,     0,     0,     0,     0,     0,     0,     0,\n",
       "            0,     0,     0,     0,     0,     0,     0,     0,     0,\n",
       "            0,     0,     0,     0,     0,     0,     0,     0,     0,\n",
       "            0,     0,     0,     0,     0,     0,     0,     0,     0,\n",
       "            0,     0,     0,     0,     0,     0,     0,     0,     0,\n",
       "            0],\n",
       "       [  101,  5837, 12725,  1179, 17462,  1279,  4736, 11012,  1183,\n",
       "         3919, 14908, 11437,  9146,  1363,  6748,  4736,  9367,  1116,\n",
       "         1458, 11986,   102,     0,     0,     0,     0,     0,     0,\n",
       "            0,     0,     0,     0,     0,     0,     0,     0,     0,\n",
       "            0,     0,     0,     0,     0,     0,     0,     0,     0,\n",
       "            0,     0,     0,     0,     0,     0,     0,     0,     0,\n",
       "            0,     0,     0,     0,     0,     0,     0,     0,     0,\n",
       "            0,     0,     0,     0,     0,     0,     0,     0,     0,\n",
       "            0,     0,     0,     0,     0,     0,     0,     0,     0,\n",
       "            0,     0,     0,     0,     0,     0,     0,     0,     0,\n",
       "            0,     0,     0,     0,     0,     0,     0,     0,     0,\n",
       "            0],\n",
       "       [  101, 25338,  1233,  1873, 15537,  7670,  1143,  6801,  1602,\n",
       "         2491,  2187, 18328,  1653,  1910,  1270, 24928, 21932, 10309,\n",
       "         4942,  2141,  1684, 19956,  3523,  1804,  1557,  4964,   102,\n",
       "            0,     0,     0,     0,     0,     0,     0,     0,     0,\n",
       "            0,     0,     0,     0,     0,     0,     0,     0,     0,\n",
       "            0,     0,     0,     0,     0,     0,     0,     0,     0,\n",
       "            0,     0,     0,     0,     0,     0,     0,     0,     0,\n",
       "            0,     0,     0,     0,     0,     0,     0,     0,     0,\n",
       "            0,     0,     0,     0,     0,     0,     0,     0,     0,\n",
       "            0,     0,     0,     0,     0,     0,     0,     0,     0,\n",
       "            0,     0,     0,     0,     0,     0,     0,     0,     0,\n",
       "            0]], dtype=int32)>"
      ]
     },
     "execution_count": 116,
     "metadata": {},
     "output_type": "execute_result"
    }
   ],
   "source": [
    "sample_data.input_ids"
   ]
  },
  {
   "cell_type": "code",
   "execution_count": 117,
   "metadata": {},
   "outputs": [
    {
     "data": {
      "text/plain": [
       "<tf.Tensor: shape=(10, 100), dtype=int32, numpy=\n",
       "array([[1, 1, 1, 1, 1, 1, 1, 1, 1, 1, 1, 1, 1, 1, 1, 1, 0, 0, 0, 0, 0, 0,\n",
       "        0, 0, 0, 0, 0, 0, 0, 0, 0, 0, 0, 0, 0, 0, 0, 0, 0, 0, 0, 0, 0, 0,\n",
       "        0, 0, 0, 0, 0, 0, 0, 0, 0, 0, 0, 0, 0, 0, 0, 0, 0, 0, 0, 0, 0, 0,\n",
       "        0, 0, 0, 0, 0, 0, 0, 0, 0, 0, 0, 0, 0, 0, 0, 0, 0, 0, 0, 0, 0, 0,\n",
       "        0, 0, 0, 0, 0, 0, 0, 0, 0, 0, 0, 0],\n",
       "       [1, 1, 1, 1, 1, 1, 1, 1, 1, 1, 1, 1, 1, 1, 0, 0, 0, 0, 0, 0, 0, 0,\n",
       "        0, 0, 0, 0, 0, 0, 0, 0, 0, 0, 0, 0, 0, 0, 0, 0, 0, 0, 0, 0, 0, 0,\n",
       "        0, 0, 0, 0, 0, 0, 0, 0, 0, 0, 0, 0, 0, 0, 0, 0, 0, 0, 0, 0, 0, 0,\n",
       "        0, 0, 0, 0, 0, 0, 0, 0, 0, 0, 0, 0, 0, 0, 0, 0, 0, 0, 0, 0, 0, 0,\n",
       "        0, 0, 0, 0, 0, 0, 0, 0, 0, 0, 0, 0],\n",
       "       [1, 1, 1, 1, 1, 1, 1, 1, 1, 1, 1, 1, 1, 1, 1, 1, 0, 0, 0, 0, 0, 0,\n",
       "        0, 0, 0, 0, 0, 0, 0, 0, 0, 0, 0, 0, 0, 0, 0, 0, 0, 0, 0, 0, 0, 0,\n",
       "        0, 0, 0, 0, 0, 0, 0, 0, 0, 0, 0, 0, 0, 0, 0, 0, 0, 0, 0, 0, 0, 0,\n",
       "        0, 0, 0, 0, 0, 0, 0, 0, 0, 0, 0, 0, 0, 0, 0, 0, 0, 0, 0, 0, 0, 0,\n",
       "        0, 0, 0, 0, 0, 0, 0, 0, 0, 0, 0, 0],\n",
       "       [1, 1, 1, 1, 1, 1, 1, 1, 1, 0, 0, 0, 0, 0, 0, 0, 0, 0, 0, 0, 0, 0,\n",
       "        0, 0, 0, 0, 0, 0, 0, 0, 0, 0, 0, 0, 0, 0, 0, 0, 0, 0, 0, 0, 0, 0,\n",
       "        0, 0, 0, 0, 0, 0, 0, 0, 0, 0, 0, 0, 0, 0, 0, 0, 0, 0, 0, 0, 0, 0,\n",
       "        0, 0, 0, 0, 0, 0, 0, 0, 0, 0, 0, 0, 0, 0, 0, 0, 0, 0, 0, 0, 0, 0,\n",
       "        0, 0, 0, 0, 0, 0, 0, 0, 0, 0, 0, 0],\n",
       "       [1, 1, 1, 1, 1, 1, 1, 1, 1, 0, 0, 0, 0, 0, 0, 0, 0, 0, 0, 0, 0, 0,\n",
       "        0, 0, 0, 0, 0, 0, 0, 0, 0, 0, 0, 0, 0, 0, 0, 0, 0, 0, 0, 0, 0, 0,\n",
       "        0, 0, 0, 0, 0, 0, 0, 0, 0, 0, 0, 0, 0, 0, 0, 0, 0, 0, 0, 0, 0, 0,\n",
       "        0, 0, 0, 0, 0, 0, 0, 0, 0, 0, 0, 0, 0, 0, 0, 0, 0, 0, 0, 0, 0, 0,\n",
       "        0, 0, 0, 0, 0, 0, 0, 0, 0, 0, 0, 0],\n",
       "       [1, 1, 1, 1, 1, 1, 1, 1, 1, 1, 1, 1, 1, 1, 1, 1, 0, 0, 0, 0, 0, 0,\n",
       "        0, 0, 0, 0, 0, 0, 0, 0, 0, 0, 0, 0, 0, 0, 0, 0, 0, 0, 0, 0, 0, 0,\n",
       "        0, 0, 0, 0, 0, 0, 0, 0, 0, 0, 0, 0, 0, 0, 0, 0, 0, 0, 0, 0, 0, 0,\n",
       "        0, 0, 0, 0, 0, 0, 0, 0, 0, 0, 0, 0, 0, 0, 0, 0, 0, 0, 0, 0, 0, 0,\n",
       "        0, 0, 0, 0, 0, 0, 0, 0, 0, 0, 0, 0],\n",
       "       [1, 1, 1, 1, 1, 1, 1, 1, 1, 1, 1, 0, 0, 0, 0, 0, 0, 0, 0, 0, 0, 0,\n",
       "        0, 0, 0, 0, 0, 0, 0, 0, 0, 0, 0, 0, 0, 0, 0, 0, 0, 0, 0, 0, 0, 0,\n",
       "        0, 0, 0, 0, 0, 0, 0, 0, 0, 0, 0, 0, 0, 0, 0, 0, 0, 0, 0, 0, 0, 0,\n",
       "        0, 0, 0, 0, 0, 0, 0, 0, 0, 0, 0, 0, 0, 0, 0, 0, 0, 0, 0, 0, 0, 0,\n",
       "        0, 0, 0, 0, 0, 0, 0, 0, 0, 0, 0, 0],\n",
       "       [1, 1, 1, 1, 1, 1, 1, 1, 1, 1, 1, 1, 1, 1, 1, 1, 1, 1, 1, 1, 1, 1,\n",
       "        1, 0, 0, 0, 0, 0, 0, 0, 0, 0, 0, 0, 0, 0, 0, 0, 0, 0, 0, 0, 0, 0,\n",
       "        0, 0, 0, 0, 0, 0, 0, 0, 0, 0, 0, 0, 0, 0, 0, 0, 0, 0, 0, 0, 0, 0,\n",
       "        0, 0, 0, 0, 0, 0, 0, 0, 0, 0, 0, 0, 0, 0, 0, 0, 0, 0, 0, 0, 0, 0,\n",
       "        0, 0, 0, 0, 0, 0, 0, 0, 0, 0, 0, 0],\n",
       "       [1, 1, 1, 1, 1, 1, 1, 1, 1, 1, 1, 1, 1, 1, 1, 1, 1, 1, 1, 1, 1, 0,\n",
       "        0, 0, 0, 0, 0, 0, 0, 0, 0, 0, 0, 0, 0, 0, 0, 0, 0, 0, 0, 0, 0, 0,\n",
       "        0, 0, 0, 0, 0, 0, 0, 0, 0, 0, 0, 0, 0, 0, 0, 0, 0, 0, 0, 0, 0, 0,\n",
       "        0, 0, 0, 0, 0, 0, 0, 0, 0, 0, 0, 0, 0, 0, 0, 0, 0, 0, 0, 0, 0, 0,\n",
       "        0, 0, 0, 0, 0, 0, 0, 0, 0, 0, 0, 0],\n",
       "       [1, 1, 1, 1, 1, 1, 1, 1, 1, 1, 1, 1, 1, 1, 1, 1, 1, 1, 1, 1, 1, 1,\n",
       "        1, 1, 1, 1, 1, 0, 0, 0, 0, 0, 0, 0, 0, 0, 0, 0, 0, 0, 0, 0, 0, 0,\n",
       "        0, 0, 0, 0, 0, 0, 0, 0, 0, 0, 0, 0, 0, 0, 0, 0, 0, 0, 0, 0, 0, 0,\n",
       "        0, 0, 0, 0, 0, 0, 0, 0, 0, 0, 0, 0, 0, 0, 0, 0, 0, 0, 0, 0, 0, 0,\n",
       "        0, 0, 0, 0, 0, 0, 0, 0, 0, 0, 0, 0]], dtype=int32)>"
      ]
     },
     "execution_count": 117,
     "metadata": {},
     "output_type": "execute_result"
    }
   ],
   "source": [
    "sample_data.attention_mask"
   ]
  },
  {
   "cell_type": "code",
   "execution_count": 118,
   "metadata": {},
   "outputs": [
    {
     "name": "stdout",
     "output_type": "stream",
     "text": [
      "1/1 [==============================] - 0s 147ms/step\n"
     ]
    }
   ],
   "source": [
    "pred_samples = model.predict({'input_ids':sample_data['input_ids'], 'attention_mask':sample_data['attention_mask']})"
   ]
  },
  {
   "cell_type": "code",
   "execution_count": 127,
   "metadata": {},
   "outputs": [
    {
     "data": {
      "text/plain": [
       "array([[0.7068041 , 0.06427203, 0.10146379, 0.9817755 , 0.04339675,\n",
       "        0.69286877],\n",
       "       [0.24645545, 0.02459377, 0.1942196 , 0.9495136 , 0.981526  ,\n",
       "        0.21965043],\n",
       "       [0.00382482, 0.08843379, 0.9996766 , 0.59201616, 0.17919932,\n",
       "        0.01996939],\n",
       "       [0.04248816, 0.05629115, 0.9271012 , 0.86843646, 0.899191  ,\n",
       "        0.10915016],\n",
       "       [0.10030117, 0.12058902, 0.18452355, 0.27674884, 0.16217922,\n",
       "        0.99976283],\n",
       "       [0.08306578, 0.11156338, 0.19408228, 0.9664479 , 0.02970901,\n",
       "        0.99075454],\n",
       "       [0.9996959 , 0.00500708, 0.00908187, 0.04009407, 0.04571569,\n",
       "        0.09853669],\n",
       "       [0.9998172 , 0.00543283, 0.01167152, 0.00975757, 0.04535252,\n",
       "        0.05399878],\n",
       "       [0.5698747 , 0.9999865 , 0.87061554, 0.13190694, 0.1086812 ,\n",
       "        0.5223906 ],\n",
       "       [0.57154524, 0.99999166, 0.8355004 , 0.08631042, 0.08339687,\n",
       "        0.5461901 ]], dtype=float32)"
      ]
     },
     "execution_count": 127,
     "metadata": {},
     "output_type": "execute_result"
    }
   ],
   "source": [
    "pred_samples"
   ]
  },
  {
   "cell_type": "code",
   "execution_count": 138,
   "metadata": {},
   "outputs": [
    {
     "name": "stdout",
     "output_type": "stream",
     "text": [
      "3\n",
      "not_cyberbullying\n"
     ]
    }
   ],
   "source": [
    "# i = 0\n",
    "# max_index = np.argmax(pred_samples[i])\n",
    "# original_label = label_enc.inverse_transform([max_index])[i]\n",
    "# print(max_index)\n",
    "# print(original_label)"
   ]
  },
  {
   "cell_type": "code",
   "execution_count": 142,
   "metadata": {},
   "outputs": [
    {
     "name": "stdout",
     "output_type": "stream",
     "text": [
      "Tweet - Kiddies have written 15 Christmas cards each... only another 48 each to go and that's only the ones for school!\n",
      "Bullying - not_cyberbullying\n",
      "\n",
      "---\n",
      "Tweet - reading a manga and my friend texts me asking if i can meet up to discuss our project. That's okay, I guess.\n",
      "Bullying - other_cyberbullying\n",
      "\n",
      "---\n",
      "Tweet - RT @TooBadDJs I'm not sexist at all, but I don't want to watch a ghostbusters film with just women in it #SoSueMe\n",
      "Bullying - gender\n",
      "\n",
      "---\n",
      "Tweet - Somehow, I doubt it. @sellis94 More people would be satisfied with me as president than a women #notsexist #NeverYield\n",
      "Bullying - gender\n",
      "\n",
      "---\n",
      "Tweet - Can you imagine this idiot calling for the Muslim vote?\n",
      "Bullying - religion\n",
      "\n",
      "---\n",
      "Tweet - @lsarsour @abu__ramadi 3 executions? That's about one tenths of a days worth for Islamically correct ISIS.\n",
      "Bullying - religion\n",
      "\n",
      "---\n",
      "Tweet - Girls who dress like this bullied me in middle school and high school\n",
      "Bullying - age\n",
      "\n",
      "---\n",
      "Tweet - im sitting outside with luna, and i swear on my life three girls walked past and i heard one say she looks like a lesbian. i am suddenly 17 and being bullied in high school again.\n",
      "Bullying - age\n",
      "\n",
      "---\n",
      "Tweet - Lebron James is a stupid cocky ass dumb nigger. Would of made a good slave but stupid fucks wanted equality.\n",
      "Bullying - ethnicity\n",
      "\n",
      "---\n",
      "Tweet - Lol this girl is posting inspiration memes and black lives matter quotes. But when your white friend called us a negro in lecture, your ears stopped working and your gum stayed closed. KMFT\n",
      "Bullying - ethnicity\n",
      "\n",
      "---\n"
     ]
    }
   ],
   "source": [
    "i = 0\n",
    "for tuples in tweet_samples:\n",
    "    max_index = np.argmax(pred_samples[i])\n",
    "    original_label = label_enc.inverse_transform([max_index])[0]\n",
    "    print(\"Tweet - \" + str(tuples), end=\"\\n\")\n",
    "    print(\"Bullying - \" + str(original_label), end=\"\\n\\n\")\n",
    "    print('---')\n",
    "    i += 1"
   ]
  },
  {
   "cell_type": "code",
   "execution_count": null,
   "metadata": {},
   "outputs": [],
   "source": []
  }
 ],
 "metadata": {
  "kaggle": {
   "accelerator": "nvidiaTeslaT4",
   "dataSources": [
    {
     "datasetId": 1869236,
     "sourceId": 3053020,
     "sourceType": "datasetVersion"
    },
    {
     "datasetId": 4615366,
     "sourceId": 7866712,
     "sourceType": "datasetVersion"
    }
   ],
   "dockerImageVersionId": 30301,
   "isGpuEnabled": true,
   "isInternetEnabled": true,
   "language": "python",
   "sourceType": "notebook"
  },
  "kernelspec": {
   "display_name": "Python 3 (ipykernel)",
   "language": "python",
   "name": "python3"
  },
  "language_info": {
   "codemirror_mode": {
    "name": "ipython",
    "version": 3
   },
   "file_extension": ".py",
   "mimetype": "text/x-python",
   "name": "python",
   "nbconvert_exporter": "python",
   "pygments_lexer": "ipython3",
   "version": "3.8.10"
  }
 },
 "nbformat": 4,
 "nbformat_minor": 4
}
