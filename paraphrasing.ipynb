{
  "nbformat": 4,
  "nbformat_minor": 0,
  "metadata": {
    "colab": {
      "provenance": []
    },
    "kernelspec": {
      "name": "python3",
      "display_name": "Python 3"
    },
    "language_info": {
      "name": "python"
    }
  },
  "cells": [
    {
      "cell_type": "code",
      "execution_count": null,
      "metadata": {
        "colab": {
          "base_uri": "https://localhost:8080/",
          "height": 523
        },
        "id": "vtB--ONoBgO3",
        "outputId": "6890569f-0a9c-4570-cdb0-856b6a2e9cc6"
      },
      "outputs": [
        {
          "output_type": "stream",
          "name": "stderr",
          "text": [
            "[nltk_data] Downloading package punkt to /root/nltk_data...\n",
            "[nltk_data]   Package punkt is already up-to-date!\n",
            "[nltk_data] Downloading package wordnet to /root/nltk_data...\n",
            "[nltk_data]   Package wordnet is already up-to-date!\n"
          ]
        },
        {
          "output_type": "stream",
          "name": "stdout",
          "text": [
            "Original DataFrame loaded with shape: (47692, 2)\n",
            "Modified DataFrame saved to 'paraphrased_dataset.csv'.\n",
            "Displaying the first few rows of the modified DataFrame:\n",
            "                                          tweet_text cyberbullying_type  \\\n",
            "0  In other words #katandandre, your food was cra...  not_cyberbullying   \n",
            "1  Why is #aussietv so white? #MKR #theblock #ImA...  not_cyberbullying   \n",
            "2  @XochitlSuckkks a classy whore? Or more red ve...  not_cyberbullying   \n",
            "3  @Jason_Gio meh. :P  thanks for the heads up, b...  not_cyberbullying   \n",
            "4  @RudhoeEnglish This is an ISIS account pretend...  not_cyberbullying   \n",
            "\n",
            "                                    Paraphrased_Text  \n",
            "0  inch other words # katandandre , your food Was...  \n",
            "1  why be # aussietv sol White ? # MKR # theblock...  \n",
            "2  @ XochitlSuckkks angstrom classy prostitute ? ...  \n",
            "3  @ Jason_Gio meh . : phosphorus thanks for the ...  \n",
            "4  @ RudhoeEnglish This be Associate_in_Nursing I...  \n"
          ]
        },
        {
          "output_type": "error",
          "ename": "TypeError",
          "evalue": "'builtin_function_or_method' object is not subscriptable",
          "traceback": [
            "\u001b[0;31m---------------------------------------------------------------------------\u001b[0m",
            "\u001b[0;31mTypeError\u001b[0m                                 Traceback (most recent call last)",
            "\u001b[0;32m<ipython-input-13-d92bc104ddee>\u001b[0m in \u001b[0;36m<cell line: 42>\u001b[0;34m()\u001b[0m\n\u001b[1;32m     40\u001b[0m \u001b[0mprint\u001b[0m\u001b[0;34m(\u001b[0m\u001b[0;34m\"Displaying the first few rows of the modified DataFrame:\"\u001b[0m\u001b[0;34m)\u001b[0m\u001b[0;34m\u001b[0m\u001b[0;34m\u001b[0m\u001b[0m\n\u001b[1;32m     41\u001b[0m \u001b[0mprint\u001b[0m\u001b[0;34m(\u001b[0m\u001b[0mdf\u001b[0m\u001b[0;34m.\u001b[0m\u001b[0mhead\u001b[0m\u001b[0;34m(\u001b[0m\u001b[0;34m)\u001b[0m\u001b[0;34m)\u001b[0m\u001b[0;34m\u001b[0m\u001b[0;34m\u001b[0m\u001b[0m\n\u001b[0;32m---> 42\u001b[0;31m \u001b[0mprint\u001b[0m\u001b[0;34m[\u001b[0m\u001b[0mdf\u001b[0m\u001b[0;34m.\u001b[0m\u001b[0mtail\u001b[0m\u001b[0;34m(\u001b[0m\u001b[0;34m)\u001b[0m\u001b[0;34m]\u001b[0m\u001b[0;34m\u001b[0m\u001b[0;34m\u001b[0m\u001b[0m\n\u001b[0m",
            "\u001b[0;31mTypeError\u001b[0m: 'builtin_function_or_method' object is not subscriptable"
          ]
        }
      ],
      "source": [
        "import pandas as pd\n",
        "import nltk\n",
        "from nltk.tokenize import word_tokenize\n",
        "from nltk.corpus import wordnet\n",
        "\n",
        "nltk.download('punkt')\n",
        "nltk.download('wordnet')\n",
        "\n",
        "def paraphrase_sentence(sentence):\n",
        "    words = word_tokenize(sentence)\n",
        "    paraphrased_sentence = []\n",
        "    for word in words:\n",
        "        synsets = wordnet.synsets(word)\n",
        "        if synsets:\n",
        "            paraphrased_word = synsets[0].lemmas()[0].name()\n",
        "            paraphrased_sentence.append(paraphrased_word)\n",
        "        else:\n",
        "            paraphrased_sentence.append(word)\n",
        "    return ' '.join(paraphrased_sentence)\n",
        "\n",
        "df = pd.read_csv(\"cyberbullying_tweets.csv\")\n",
        "\n",
        "print(\"Original DataFrame loaded with shape:\", df.shape)\n",
        "\n",
        "if 'tweet_text' in df.columns:\n",
        "    df['Paraphrased_Text'] = df['tweet_text'].apply(paraphrase_sentence)\n",
        "else:\n",
        "    print(\"'tweet_text' does not exist in the DataFrame. Please check the column name.\")\n",
        "\n",
        "df.to_csv(\"paraphrased_dataset1.csv\", index=False)\n",
        "print(\"Modified DataFrame saved to 'paraphrased_dataset.csv'.\")\n",
        "\n",
        "print(\"Displaying the first few rows of the modified DataFrame:\")\n",
        "print(df.head())"
      ]
    },
    {
      "cell_type": "code",
      "source": [
        "print(df.head())"
      ],
      "metadata": {
        "colab": {
          "base_uri": "https://localhost:8080/"
        },
        "id": "FPuEN-dlGRR1",
        "outputId": "ffb67b03-3f05-419a-fb46-ca7f4395891c"
      },
      "execution_count": null,
      "outputs": [
        {
          "output_type": "stream",
          "name": "stdout",
          "text": [
            "                                          tweet_text cyberbullying_type  \\\n",
            "0  In other words #katandandre, your food was cra...  not_cyberbullying   \n",
            "1  Why is #aussietv so white? #MKR #theblock #ImA...  not_cyberbullying   \n",
            "2  @XochitlSuckkks a classy whore? Or more red ve...  not_cyberbullying   \n",
            "3  @Jason_Gio meh. :P  thanks for the heads up, b...  not_cyberbullying   \n",
            "4  @RudhoeEnglish This is an ISIS account pretend...  not_cyberbullying   \n",
            "\n",
            "                                    Paraphrased_Text  \n",
            "0  inch other words # katandandre , your food Was...  \n",
            "1  why be # aussietv sol White ? # MKR # theblock...  \n",
            "2  @ XochitlSuckkks angstrom classy prostitute ? ...  \n",
            "3  @ Jason_Gio meh . : phosphorus thanks for the ...  \n",
            "4  @ RudhoeEnglish This be Associate_in_Nursing I...  \n"
          ]
        }
      ]
    },
    {
      "cell_type": "code",
      "source": [
        "print(df.tail())"
      ],
      "metadata": {
        "colab": {
          "base_uri": "https://localhost:8080/"
        },
        "id": "zHCwgfpNGSr9",
        "outputId": "1ff7795a-d6cf-4325-da6b-76f90118ad99"
      },
      "execution_count": null,
      "outputs": [
        {
          "output_type": "stream",
          "name": "stdout",
          "text": [
            "                                              tweet_text cyberbullying_type  \\\n",
            "47687  Black ppl aren't expected to do anything, depe...          ethnicity   \n",
            "47688  Turner did not withhold his disappointment. Tu...          ethnicity   \n",
            "47689  I swear to God. This dumb nigger bitch. I have...          ethnicity   \n",
            "47690  Yea fuck you RT @therealexel: IF YOURE A NIGGE...          ethnicity   \n",
            "47691  Bro. U gotta chill RT @CHILLShrammy: Dog FUCK ...          ethnicity   \n",
            "\n",
            "                                        Paraphrased_Text  \n",
            "47687  black ppl are n't expect to bash anything , de...  \n",
            "47688  Turner make not withhold his disappointment . ...  \n",
            "47689  iodine curse to God . This dense nigger bitch ...  \n",
            "47690  yea fuck you RT @ therealexel : IF YOURE angst...  \n",
            "47691  Bro . uracil get tantalum chill RT @ CHILLShra...  \n"
          ]
        }
      ]
    },
    {
      "cell_type": "code",
      "source": [
        "df.to_csv(\"paraphrased_dataset2.csv\", index=False)\n"
      ],
      "metadata": {
        "id": "3WH8Xse2GkaE"
      },
      "execution_count": null,
      "outputs": []
    },
    {
      "cell_type": "code",
      "source": [
        "from google.colab import files\n",
        "files.download('paraphrased_dataset2.csv')\n"
      ],
      "metadata": {
        "colab": {
          "base_uri": "https://localhost:8080/",
          "height": 17
        },
        "id": "2RGTdEeCC4FV",
        "outputId": "61cee31e-6ed2-49e7-f8f9-870080083bf9"
      },
      "execution_count": null,
      "outputs": [
        {
          "output_type": "display_data",
          "data": {
            "text/plain": [
              "<IPython.core.display.Javascript object>"
            ],
            "application/javascript": [
              "\n",
              "    async function download(id, filename, size) {\n",
              "      if (!google.colab.kernel.accessAllowed) {\n",
              "        return;\n",
              "      }\n",
              "      const div = document.createElement('div');\n",
              "      const label = document.createElement('label');\n",
              "      label.textContent = `Downloading \"${filename}\": `;\n",
              "      div.appendChild(label);\n",
              "      const progress = document.createElement('progress');\n",
              "      progress.max = size;\n",
              "      div.appendChild(progress);\n",
              "      document.body.appendChild(div);\n",
              "\n",
              "      const buffers = [];\n",
              "      let downloaded = 0;\n",
              "\n",
              "      const channel = await google.colab.kernel.comms.open(id);\n",
              "      // Send a message to notify the kernel that we're ready.\n",
              "      channel.send({})\n",
              "\n",
              "      for await (const message of channel.messages) {\n",
              "        // Send a message to notify the kernel that we're ready.\n",
              "        channel.send({})\n",
              "        if (message.buffers) {\n",
              "          for (const buffer of message.buffers) {\n",
              "            buffers.push(buffer);\n",
              "            downloaded += buffer.byteLength;\n",
              "            progress.value = downloaded;\n",
              "          }\n",
              "        }\n",
              "      }\n",
              "      const blob = new Blob(buffers, {type: 'application/binary'});\n",
              "      const a = document.createElement('a');\n",
              "      a.href = window.URL.createObjectURL(blob);\n",
              "      a.download = filename;\n",
              "      div.appendChild(a);\n",
              "      a.click();\n",
              "      div.remove();\n",
              "    }\n",
              "  "
            ]
          },
          "metadata": {}
        },
        {
          "output_type": "display_data",
          "data": {
            "text/plain": [
              "<IPython.core.display.Javascript object>"
            ],
            "application/javascript": [
              "download(\"download_2dafafa9-6700-4cd0-a325-02d783e7dd1a\", \"paraphrased_dataset2.csv\", 15636334)"
            ]
          },
          "metadata": {}
        }
      ]
    }
  ]
}